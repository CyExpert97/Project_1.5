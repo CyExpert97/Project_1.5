{
 "metadata": {
  "language_info": {
   "codemirror_mode": {
    "name": "ipython",
    "version": 3
   },
   "file_extension": ".py",
   "mimetype": "text/x-python",
   "name": "python",
   "nbconvert_exporter": "python",
   "pygments_lexer": "ipython3",
   "version": "3.7.9"
  },
  "orig_nbformat": 2,
  "kernelspec": {
   "name": "python3",
   "display_name": "Python 3.7.9 64-bit",
   "metadata": {
    "interpreter": {
     "hash": "b32c4faaeb5a9bd4c491c5073a3310d097b0b38aee165e88dd3bbbd207efc140"
    }
   }
  }
 },
 "nbformat": 4,
 "nbformat_minor": 2,
 "cells": [
  {
   "cell_type": "code",
   "execution_count": 33,
   "metadata": {},
   "outputs": [
    {
     "output_type": "execute_result",
     "data": {
      "text/plain": [
       "     Role of champion_role-jungle  Role of champion_role-mid  \\\n",
       "0                               0                          0   \n",
       "1                               0                          0   \n",
       "2                               0                          0   \n",
       "3                               1                          0   \n",
       "4                               0                          1   \n",
       "..                            ...                        ...   \n",
       "198                             0                          1   \n",
       "199                             0                          0   \n",
       "200                             1                          0   \n",
       "201                             0                          0   \n",
       "202                             1                          0   \n",
       "\n",
       "     Role of champion_role-support  Role of champion_role-top  \\\n",
       "0                                1                          0   \n",
       "1                                1                          0   \n",
       "2                                0                          1   \n",
       "3                                0                          0   \n",
       "4                                0                          0   \n",
       "..                             ...                        ...   \n",
       "198                              0                          0   \n",
       "199                              1                          0   \n",
       "200                              0                          0   \n",
       "201                              0                          1   \n",
       "202                              0                          0   \n",
       "\n",
       "     Win rate of champion  Pick rate of champion  Move. speed  Attack range  \\\n",
       "0                   0.534                  0.153          330           550   \n",
       "1                   0.523                  0.198          335           450   \n",
       "2                   0.543                  0.078          340           175   \n",
       "3                   0.511                  0.156          345           175   \n",
       "4                   0.489                  0.111          345           175   \n",
       "..                    ...                    ...          ...           ...   \n",
       "198                 0.519                  0.007          335           550   \n",
       "199                 0.597                  0.006          325           600   \n",
       "200                 0.484                  0.008          345           175   \n",
       "201                 0.421                  0.005          350           175   \n",
       "202                 0.573                  0.008          350           175   \n",
       "\n",
       "     Base AS  AS ratio  \n",
       "0      0.625     1.000  \n",
       "1      0.625     1.000  \n",
       "2      0.625     1.000  \n",
       "3      0.670     1.000  \n",
       "4      0.625     1.000  \n",
       "..       ...       ...  \n",
       "198    0.625     1.000  \n",
       "199    0.625     1.000  \n",
       "200    0.711     0.658  \n",
       "201    0.670     1.000  \n",
       "202    0.670     1.000  \n",
       "\n",
       "[202 rows x 10 columns]"
      ],
      "text/html": "<div>\n<style scoped>\n    .dataframe tbody tr th:only-of-type {\n        vertical-align: middle;\n    }\n\n    .dataframe tbody tr th {\n        vertical-align: top;\n    }\n\n    .dataframe thead th {\n        text-align: right;\n    }\n</style>\n<table border=\"1\" class=\"dataframe\">\n  <thead>\n    <tr style=\"text-align: right;\">\n      <th></th>\n      <th>Role of champion_role-jungle</th>\n      <th>Role of champion_role-mid</th>\n      <th>Role of champion_role-support</th>\n      <th>Role of champion_role-top</th>\n      <th>Win rate of champion</th>\n      <th>Pick rate of champion</th>\n      <th>Move. speed</th>\n      <th>Attack range</th>\n      <th>Base AS</th>\n      <th>AS ratio</th>\n    </tr>\n  </thead>\n  <tbody>\n    <tr>\n      <th>0</th>\n      <td>0</td>\n      <td>0</td>\n      <td>1</td>\n      <td>0</td>\n      <td>0.534</td>\n      <td>0.153</td>\n      <td>330</td>\n      <td>550</td>\n      <td>0.625</td>\n      <td>1.000</td>\n    </tr>\n    <tr>\n      <th>1</th>\n      <td>0</td>\n      <td>0</td>\n      <td>1</td>\n      <td>0</td>\n      <td>0.523</td>\n      <td>0.198</td>\n      <td>335</td>\n      <td>450</td>\n      <td>0.625</td>\n      <td>1.000</td>\n    </tr>\n    <tr>\n      <th>2</th>\n      <td>0</td>\n      <td>0</td>\n      <td>0</td>\n      <td>1</td>\n      <td>0.543</td>\n      <td>0.078</td>\n      <td>340</td>\n      <td>175</td>\n      <td>0.625</td>\n      <td>1.000</td>\n    </tr>\n    <tr>\n      <th>3</th>\n      <td>1</td>\n      <td>0</td>\n      <td>0</td>\n      <td>0</td>\n      <td>0.511</td>\n      <td>0.156</td>\n      <td>345</td>\n      <td>175</td>\n      <td>0.670</td>\n      <td>1.000</td>\n    </tr>\n    <tr>\n      <th>4</th>\n      <td>0</td>\n      <td>1</td>\n      <td>0</td>\n      <td>0</td>\n      <td>0.489</td>\n      <td>0.111</td>\n      <td>345</td>\n      <td>175</td>\n      <td>0.625</td>\n      <td>1.000</td>\n    </tr>\n    <tr>\n      <th>...</th>\n      <td>...</td>\n      <td>...</td>\n      <td>...</td>\n      <td>...</td>\n      <td>...</td>\n      <td>...</td>\n      <td>...</td>\n      <td>...</td>\n      <td>...</td>\n      <td>...</td>\n    </tr>\n    <tr>\n      <th>198</th>\n      <td>0</td>\n      <td>1</td>\n      <td>0</td>\n      <td>0</td>\n      <td>0.519</td>\n      <td>0.007</td>\n      <td>335</td>\n      <td>550</td>\n      <td>0.625</td>\n      <td>1.000</td>\n    </tr>\n    <tr>\n      <th>199</th>\n      <td>0</td>\n      <td>0</td>\n      <td>1</td>\n      <td>0</td>\n      <td>0.597</td>\n      <td>0.006</td>\n      <td>325</td>\n      <td>600</td>\n      <td>0.625</td>\n      <td>1.000</td>\n    </tr>\n    <tr>\n      <th>200</th>\n      <td>1</td>\n      <td>0</td>\n      <td>0</td>\n      <td>0</td>\n      <td>0.484</td>\n      <td>0.008</td>\n      <td>345</td>\n      <td>175</td>\n      <td>0.711</td>\n      <td>0.658</td>\n    </tr>\n    <tr>\n      <th>201</th>\n      <td>0</td>\n      <td>0</td>\n      <td>0</td>\n      <td>1</td>\n      <td>0.421</td>\n      <td>0.005</td>\n      <td>350</td>\n      <td>175</td>\n      <td>0.670</td>\n      <td>1.000</td>\n    </tr>\n    <tr>\n      <th>202</th>\n      <td>1</td>\n      <td>0</td>\n      <td>0</td>\n      <td>0</td>\n      <td>0.573</td>\n      <td>0.008</td>\n      <td>350</td>\n      <td>175</td>\n      <td>0.670</td>\n      <td>1.000</td>\n    </tr>\n  </tbody>\n</table>\n<p>202 rows × 10 columns</p>\n</div>"
     },
     "metadata": {},
     "execution_count": 33
    }
   ],
   "source": [
    "import pandas as pd\n",
    "champ_data_df = pd.read_csv(\"regression_data.csv\",index_col=0)\n",
    "champ_data_df"
   ]
  },
  {
   "cell_type": "code",
   "execution_count": 34,
   "metadata": {},
   "outputs": [],
   "source": [
    "champ_data_df.columns = champ_data_df.columns.str.replace(\" |-\" , \"_\", regex=True)\n",
    "champ_data_df.rename(columns={\"Move._speed\" : \"Move_speed\"}, inplace=True)"
   ]
  },
  {
   "cell_type": "code",
   "execution_count": 35,
   "metadata": {},
   "outputs": [
    {
     "output_type": "stream",
     "name": "stdout",
     "text": [
      "Role_of_champion_role_jungle     100.0\nRole_of_champion_role_mid        100.0\nRole_of_champion_role_support    100.0\nRole_of_champion_role_top        100.0\nWin_rate_of_champion             100.0\nPick_rate_of_champion            100.0\nMove_speed                       100.0\nAttack_range                     100.0\nBase_AS                          100.0\nAS_ratio                         100.0\ndtype: float64\n"
     ]
    }
   ],
   "source": [
    "def percent_complete(df):\n",
    "    print(df.notnull().mean()*100)\n",
    "\n",
    "percent_complete(champ_data_df)"
   ]
  },
  {
   "cell_type": "code",
   "execution_count": 36,
   "metadata": {},
   "outputs": [
    {
     "output_type": "display_data",
     "data": {
      "application/vnd.plotly.v1+json": {
       "config": {
        "plotlyServerURL": "https://plot.ly"
       },
       "data": [
        {
         "alignmentgroup": "True",
         "bingroup": "x",
         "hovertemplate": "Win_rate_of_champion=%{x}<br>count=%{y}<extra></extra>",
         "legendgroup": "",
         "marker": {
          "color": "#636efa"
         },
         "name": "",
         "offsetgroup": "",
         "orientation": "v",
         "showlegend": false,
         "type": "histogram",
         "x": [
          0.534,
          0.523,
          0.5429999999999999,
          0.511,
          0.489,
          0.509,
          0.527,
          0.53,
          0.5,
          0.526,
          0.492,
          0.478,
          0.508,
          0.5,
          0.55,
          0.511,
          0.486,
          0.516,
          0.536,
          0.499,
          0.5539999999999999,
          0.474,
          0.49,
          0.507,
          0.492,
          0.513,
          0.55,
          0.578,
          0.517,
          0.539,
          0.504,
          0.525,
          0.563,
          0.547,
          0.536,
          0.518,
          0.568,
          0.506,
          0.5479999999999999,
          0.488,
          0.475,
          0.532,
          0.564,
          0.53,
          0.55,
          0.501,
          0.497,
          0.542,
          0.486,
          0.532,
          0.542,
          0.48,
          0.557,
          0.625,
          0.483,
          0.495,
          0.519,
          0.49,
          0.485,
          0.502,
          0.465,
          0.539,
          0.465,
          0.515,
          0.506,
          0.508,
          0.5,
          0.5329999999999999,
          0.511,
          0.497,
          0.484,
          0.53,
          0.487,
          0.513,
          0.56,
          0.542,
          0.5329999999999999,
          0.527,
          0.526,
          0.482,
          0.525,
          0.486,
          0.519,
          0.449,
          0.516,
          0.513,
          0.513,
          0.475,
          0.49,
          0.517,
          0.471,
          0.52,
          0.581,
          0.5,
          0.55,
          0.47,
          0.498,
          0.491,
          0.546,
          0.5579999999999999,
          0.5379999999999999,
          0.49,
          0.505,
          0.511,
          0.474,
          0.505,
          0.516,
          0.495,
          0.474,
          0.532,
          0.484,
          0.498,
          0.504,
          0.449,
          0.482,
          0.507,
          0.475,
          0.488,
          0.516,
          0.518,
          0.476,
          0.48,
          0.506,
          0.523,
          0.462,
          0.485,
          0.482,
          0.529,
          0.513,
          0.487,
          0.515,
          0.524,
          0.51,
          0.476,
          0.5,
          0.427,
          0.48,
          0.482,
          0.421,
          0.4539999999999999,
          0.465,
          0.447,
          0.518,
          0.51,
          0.48,
          0.5,
          0.446,
          0.422,
          0.446,
          0.413,
          0.457,
          0.439,
          0.407,
          0.486,
          0.4429999999999999,
          0.479,
          0.462,
          0.5,
          0.478,
          0.475,
          0.491,
          0.452,
          0.4629999999999999,
          0.497,
          0.429,
          0.43,
          0.412,
          0.465,
          0.432,
          0.41,
          0.4639999999999999,
          0.481,
          0.452,
          0.4529999999999999,
          0.4629999999999999,
          0.5,
          0.47,
          0.629,
          0.685,
          0.467,
          0.529,
          0.365,
          0.519,
          0.475,
          0.455,
          0.486,
          0.512,
          0.55,
          0.5,
          0.477,
          0.5329999999999999,
          0.384,
          0.418,
          0.422,
          0.5429999999999999,
          0.675,
          0.507,
          0.519,
          0.597,
          0.484,
          0.421,
          0.573
         ],
         "xaxis": "x",
         "yaxis": "y"
        },
        {
         "alignmentgroup": "True",
         "hovertemplate": "Win_rate_of_champion=%{x}<extra></extra>",
         "legendgroup": "",
         "marker": {
          "color": "#636efa"
         },
         "name": "",
         "offsetgroup": "",
         "scalegroup": "x",
         "showlegend": false,
         "type": "violin",
         "x": [
          0.534,
          0.523,
          0.5429999999999999,
          0.511,
          0.489,
          0.509,
          0.527,
          0.53,
          0.5,
          0.526,
          0.492,
          0.478,
          0.508,
          0.5,
          0.55,
          0.511,
          0.486,
          0.516,
          0.536,
          0.499,
          0.5539999999999999,
          0.474,
          0.49,
          0.507,
          0.492,
          0.513,
          0.55,
          0.578,
          0.517,
          0.539,
          0.504,
          0.525,
          0.563,
          0.547,
          0.536,
          0.518,
          0.568,
          0.506,
          0.5479999999999999,
          0.488,
          0.475,
          0.532,
          0.564,
          0.53,
          0.55,
          0.501,
          0.497,
          0.542,
          0.486,
          0.532,
          0.542,
          0.48,
          0.557,
          0.625,
          0.483,
          0.495,
          0.519,
          0.49,
          0.485,
          0.502,
          0.465,
          0.539,
          0.465,
          0.515,
          0.506,
          0.508,
          0.5,
          0.5329999999999999,
          0.511,
          0.497,
          0.484,
          0.53,
          0.487,
          0.513,
          0.56,
          0.542,
          0.5329999999999999,
          0.527,
          0.526,
          0.482,
          0.525,
          0.486,
          0.519,
          0.449,
          0.516,
          0.513,
          0.513,
          0.475,
          0.49,
          0.517,
          0.471,
          0.52,
          0.581,
          0.5,
          0.55,
          0.47,
          0.498,
          0.491,
          0.546,
          0.5579999999999999,
          0.5379999999999999,
          0.49,
          0.505,
          0.511,
          0.474,
          0.505,
          0.516,
          0.495,
          0.474,
          0.532,
          0.484,
          0.498,
          0.504,
          0.449,
          0.482,
          0.507,
          0.475,
          0.488,
          0.516,
          0.518,
          0.476,
          0.48,
          0.506,
          0.523,
          0.462,
          0.485,
          0.482,
          0.529,
          0.513,
          0.487,
          0.515,
          0.524,
          0.51,
          0.476,
          0.5,
          0.427,
          0.48,
          0.482,
          0.421,
          0.4539999999999999,
          0.465,
          0.447,
          0.518,
          0.51,
          0.48,
          0.5,
          0.446,
          0.422,
          0.446,
          0.413,
          0.457,
          0.439,
          0.407,
          0.486,
          0.4429999999999999,
          0.479,
          0.462,
          0.5,
          0.478,
          0.475,
          0.491,
          0.452,
          0.4629999999999999,
          0.497,
          0.429,
          0.43,
          0.412,
          0.465,
          0.432,
          0.41,
          0.4639999999999999,
          0.481,
          0.452,
          0.4529999999999999,
          0.4629999999999999,
          0.5,
          0.47,
          0.629,
          0.685,
          0.467,
          0.529,
          0.365,
          0.519,
          0.475,
          0.455,
          0.486,
          0.512,
          0.55,
          0.5,
          0.477,
          0.5329999999999999,
          0.384,
          0.418,
          0.422,
          0.5429999999999999,
          0.675,
          0.507,
          0.519,
          0.597,
          0.484,
          0.421,
          0.573
         ],
         "xaxis": "x2",
         "yaxis": "y2"
        }
       ],
       "layout": {
        "barmode": "relative",
        "legend": {
         "tracegroupgap": 0
        },
        "template": {
         "data": {
          "bar": [
           {
            "error_x": {
             "color": "#2a3f5f"
            },
            "error_y": {
             "color": "#2a3f5f"
            },
            "marker": {
             "line": {
              "color": "#E5ECF6",
              "width": 0.5
             }
            },
            "type": "bar"
           }
          ],
          "barpolar": [
           {
            "marker": {
             "line": {
              "color": "#E5ECF6",
              "width": 0.5
             }
            },
            "type": "barpolar"
           }
          ],
          "carpet": [
           {
            "aaxis": {
             "endlinecolor": "#2a3f5f",
             "gridcolor": "white",
             "linecolor": "white",
             "minorgridcolor": "white",
             "startlinecolor": "#2a3f5f"
            },
            "baxis": {
             "endlinecolor": "#2a3f5f",
             "gridcolor": "white",
             "linecolor": "white",
             "minorgridcolor": "white",
             "startlinecolor": "#2a3f5f"
            },
            "type": "carpet"
           }
          ],
          "choropleth": [
           {
            "colorbar": {
             "outlinewidth": 0,
             "ticks": ""
            },
            "type": "choropleth"
           }
          ],
          "contour": [
           {
            "colorbar": {
             "outlinewidth": 0,
             "ticks": ""
            },
            "colorscale": [
             [
              0,
              "#0d0887"
             ],
             [
              0.1111111111111111,
              "#46039f"
             ],
             [
              0.2222222222222222,
              "#7201a8"
             ],
             [
              0.3333333333333333,
              "#9c179e"
             ],
             [
              0.4444444444444444,
              "#bd3786"
             ],
             [
              0.5555555555555556,
              "#d8576b"
             ],
             [
              0.6666666666666666,
              "#ed7953"
             ],
             [
              0.7777777777777778,
              "#fb9f3a"
             ],
             [
              0.8888888888888888,
              "#fdca26"
             ],
             [
              1,
              "#f0f921"
             ]
            ],
            "type": "contour"
           }
          ],
          "contourcarpet": [
           {
            "colorbar": {
             "outlinewidth": 0,
             "ticks": ""
            },
            "type": "contourcarpet"
           }
          ],
          "heatmap": [
           {
            "colorbar": {
             "outlinewidth": 0,
             "ticks": ""
            },
            "colorscale": [
             [
              0,
              "#0d0887"
             ],
             [
              0.1111111111111111,
              "#46039f"
             ],
             [
              0.2222222222222222,
              "#7201a8"
             ],
             [
              0.3333333333333333,
              "#9c179e"
             ],
             [
              0.4444444444444444,
              "#bd3786"
             ],
             [
              0.5555555555555556,
              "#d8576b"
             ],
             [
              0.6666666666666666,
              "#ed7953"
             ],
             [
              0.7777777777777778,
              "#fb9f3a"
             ],
             [
              0.8888888888888888,
              "#fdca26"
             ],
             [
              1,
              "#f0f921"
             ]
            ],
            "type": "heatmap"
           }
          ],
          "heatmapgl": [
           {
            "colorbar": {
             "outlinewidth": 0,
             "ticks": ""
            },
            "colorscale": [
             [
              0,
              "#0d0887"
             ],
             [
              0.1111111111111111,
              "#46039f"
             ],
             [
              0.2222222222222222,
              "#7201a8"
             ],
             [
              0.3333333333333333,
              "#9c179e"
             ],
             [
              0.4444444444444444,
              "#bd3786"
             ],
             [
              0.5555555555555556,
              "#d8576b"
             ],
             [
              0.6666666666666666,
              "#ed7953"
             ],
             [
              0.7777777777777778,
              "#fb9f3a"
             ],
             [
              0.8888888888888888,
              "#fdca26"
             ],
             [
              1,
              "#f0f921"
             ]
            ],
            "type": "heatmapgl"
           }
          ],
          "histogram": [
           {
            "marker": {
             "colorbar": {
              "outlinewidth": 0,
              "ticks": ""
             }
            },
            "type": "histogram"
           }
          ],
          "histogram2d": [
           {
            "colorbar": {
             "outlinewidth": 0,
             "ticks": ""
            },
            "colorscale": [
             [
              0,
              "#0d0887"
             ],
             [
              0.1111111111111111,
              "#46039f"
             ],
             [
              0.2222222222222222,
              "#7201a8"
             ],
             [
              0.3333333333333333,
              "#9c179e"
             ],
             [
              0.4444444444444444,
              "#bd3786"
             ],
             [
              0.5555555555555556,
              "#d8576b"
             ],
             [
              0.6666666666666666,
              "#ed7953"
             ],
             [
              0.7777777777777778,
              "#fb9f3a"
             ],
             [
              0.8888888888888888,
              "#fdca26"
             ],
             [
              1,
              "#f0f921"
             ]
            ],
            "type": "histogram2d"
           }
          ],
          "histogram2dcontour": [
           {
            "colorbar": {
             "outlinewidth": 0,
             "ticks": ""
            },
            "colorscale": [
             [
              0,
              "#0d0887"
             ],
             [
              0.1111111111111111,
              "#46039f"
             ],
             [
              0.2222222222222222,
              "#7201a8"
             ],
             [
              0.3333333333333333,
              "#9c179e"
             ],
             [
              0.4444444444444444,
              "#bd3786"
             ],
             [
              0.5555555555555556,
              "#d8576b"
             ],
             [
              0.6666666666666666,
              "#ed7953"
             ],
             [
              0.7777777777777778,
              "#fb9f3a"
             ],
             [
              0.8888888888888888,
              "#fdca26"
             ],
             [
              1,
              "#f0f921"
             ]
            ],
            "type": "histogram2dcontour"
           }
          ],
          "mesh3d": [
           {
            "colorbar": {
             "outlinewidth": 0,
             "ticks": ""
            },
            "type": "mesh3d"
           }
          ],
          "parcoords": [
           {
            "line": {
             "colorbar": {
              "outlinewidth": 0,
              "ticks": ""
             }
            },
            "type": "parcoords"
           }
          ],
          "pie": [
           {
            "automargin": true,
            "type": "pie"
           }
          ],
          "scatter": [
           {
            "marker": {
             "colorbar": {
              "outlinewidth": 0,
              "ticks": ""
             }
            },
            "type": "scatter"
           }
          ],
          "scatter3d": [
           {
            "line": {
             "colorbar": {
              "outlinewidth": 0,
              "ticks": ""
             }
            },
            "marker": {
             "colorbar": {
              "outlinewidth": 0,
              "ticks": ""
             }
            },
            "type": "scatter3d"
           }
          ],
          "scattercarpet": [
           {
            "marker": {
             "colorbar": {
              "outlinewidth": 0,
              "ticks": ""
             }
            },
            "type": "scattercarpet"
           }
          ],
          "scattergeo": [
           {
            "marker": {
             "colorbar": {
              "outlinewidth": 0,
              "ticks": ""
             }
            },
            "type": "scattergeo"
           }
          ],
          "scattergl": [
           {
            "marker": {
             "colorbar": {
              "outlinewidth": 0,
              "ticks": ""
             }
            },
            "type": "scattergl"
           }
          ],
          "scattermapbox": [
           {
            "marker": {
             "colorbar": {
              "outlinewidth": 0,
              "ticks": ""
             }
            },
            "type": "scattermapbox"
           }
          ],
          "scatterpolar": [
           {
            "marker": {
             "colorbar": {
              "outlinewidth": 0,
              "ticks": ""
             }
            },
            "type": "scatterpolar"
           }
          ],
          "scatterpolargl": [
           {
            "marker": {
             "colorbar": {
              "outlinewidth": 0,
              "ticks": ""
             }
            },
            "type": "scatterpolargl"
           }
          ],
          "scatterternary": [
           {
            "marker": {
             "colorbar": {
              "outlinewidth": 0,
              "ticks": ""
             }
            },
            "type": "scatterternary"
           }
          ],
          "surface": [
           {
            "colorbar": {
             "outlinewidth": 0,
             "ticks": ""
            },
            "colorscale": [
             [
              0,
              "#0d0887"
             ],
             [
              0.1111111111111111,
              "#46039f"
             ],
             [
              0.2222222222222222,
              "#7201a8"
             ],
             [
              0.3333333333333333,
              "#9c179e"
             ],
             [
              0.4444444444444444,
              "#bd3786"
             ],
             [
              0.5555555555555556,
              "#d8576b"
             ],
             [
              0.6666666666666666,
              "#ed7953"
             ],
             [
              0.7777777777777778,
              "#fb9f3a"
             ],
             [
              0.8888888888888888,
              "#fdca26"
             ],
             [
              1,
              "#f0f921"
             ]
            ],
            "type": "surface"
           }
          ],
          "table": [
           {
            "cells": {
             "fill": {
              "color": "#EBF0F8"
             },
             "line": {
              "color": "white"
             }
            },
            "header": {
             "fill": {
              "color": "#C8D4E3"
             },
             "line": {
              "color": "white"
             }
            },
            "type": "table"
           }
          ]
         },
         "layout": {
          "annotationdefaults": {
           "arrowcolor": "#2a3f5f",
           "arrowhead": 0,
           "arrowwidth": 1
          },
          "autotypenumbers": "strict",
          "coloraxis": {
           "colorbar": {
            "outlinewidth": 0,
            "ticks": ""
           }
          },
          "colorscale": {
           "diverging": [
            [
             0,
             "#8e0152"
            ],
            [
             0.1,
             "#c51b7d"
            ],
            [
             0.2,
             "#de77ae"
            ],
            [
             0.3,
             "#f1b6da"
            ],
            [
             0.4,
             "#fde0ef"
            ],
            [
             0.5,
             "#f7f7f7"
            ],
            [
             0.6,
             "#e6f5d0"
            ],
            [
             0.7,
             "#b8e186"
            ],
            [
             0.8,
             "#7fbc41"
            ],
            [
             0.9,
             "#4d9221"
            ],
            [
             1,
             "#276419"
            ]
           ],
           "sequential": [
            [
             0,
             "#0d0887"
            ],
            [
             0.1111111111111111,
             "#46039f"
            ],
            [
             0.2222222222222222,
             "#7201a8"
            ],
            [
             0.3333333333333333,
             "#9c179e"
            ],
            [
             0.4444444444444444,
             "#bd3786"
            ],
            [
             0.5555555555555556,
             "#d8576b"
            ],
            [
             0.6666666666666666,
             "#ed7953"
            ],
            [
             0.7777777777777778,
             "#fb9f3a"
            ],
            [
             0.8888888888888888,
             "#fdca26"
            ],
            [
             1,
             "#f0f921"
            ]
           ],
           "sequentialminus": [
            [
             0,
             "#0d0887"
            ],
            [
             0.1111111111111111,
             "#46039f"
            ],
            [
             0.2222222222222222,
             "#7201a8"
            ],
            [
             0.3333333333333333,
             "#9c179e"
            ],
            [
             0.4444444444444444,
             "#bd3786"
            ],
            [
             0.5555555555555556,
             "#d8576b"
            ],
            [
             0.6666666666666666,
             "#ed7953"
            ],
            [
             0.7777777777777778,
             "#fb9f3a"
            ],
            [
             0.8888888888888888,
             "#fdca26"
            ],
            [
             1,
             "#f0f921"
            ]
           ]
          },
          "colorway": [
           "#636efa",
           "#EF553B",
           "#00cc96",
           "#ab63fa",
           "#FFA15A",
           "#19d3f3",
           "#FF6692",
           "#B6E880",
           "#FF97FF",
           "#FECB52"
          ],
          "font": {
           "color": "#2a3f5f"
          },
          "geo": {
           "bgcolor": "white",
           "lakecolor": "white",
           "landcolor": "#E5ECF6",
           "showlakes": true,
           "showland": true,
           "subunitcolor": "white"
          },
          "hoverlabel": {
           "align": "left"
          },
          "hovermode": "closest",
          "mapbox": {
           "style": "light"
          },
          "paper_bgcolor": "white",
          "plot_bgcolor": "#E5ECF6",
          "polar": {
           "angularaxis": {
            "gridcolor": "white",
            "linecolor": "white",
            "ticks": ""
           },
           "bgcolor": "#E5ECF6",
           "radialaxis": {
            "gridcolor": "white",
            "linecolor": "white",
            "ticks": ""
           }
          },
          "scene": {
           "xaxis": {
            "backgroundcolor": "#E5ECF6",
            "gridcolor": "white",
            "gridwidth": 2,
            "linecolor": "white",
            "showbackground": true,
            "ticks": "",
            "zerolinecolor": "white"
           },
           "yaxis": {
            "backgroundcolor": "#E5ECF6",
            "gridcolor": "white",
            "gridwidth": 2,
            "linecolor": "white",
            "showbackground": true,
            "ticks": "",
            "zerolinecolor": "white"
           },
           "zaxis": {
            "backgroundcolor": "#E5ECF6",
            "gridcolor": "white",
            "gridwidth": 2,
            "linecolor": "white",
            "showbackground": true,
            "ticks": "",
            "zerolinecolor": "white"
           }
          },
          "shapedefaults": {
           "line": {
            "color": "#2a3f5f"
           }
          },
          "ternary": {
           "aaxis": {
            "gridcolor": "white",
            "linecolor": "white",
            "ticks": ""
           },
           "baxis": {
            "gridcolor": "white",
            "linecolor": "white",
            "ticks": ""
           },
           "bgcolor": "#E5ECF6",
           "caxis": {
            "gridcolor": "white",
            "linecolor": "white",
            "ticks": ""
           }
          },
          "title": {
           "x": 0.05
          },
          "xaxis": {
           "automargin": true,
           "gridcolor": "white",
           "linecolor": "white",
           "ticks": "",
           "title": {
            "standoff": 15
           },
           "zerolinecolor": "white",
           "zerolinewidth": 2
          },
          "yaxis": {
           "automargin": true,
           "gridcolor": "white",
           "linecolor": "white",
           "ticks": "",
           "title": {
            "standoff": 15
           },
           "zerolinecolor": "white",
           "zerolinewidth": 2
          }
         }
        },
        "title": {
         "text": "Win_rate_of_champion histogram"
        },
        "xaxis": {
         "anchor": "y",
         "domain": [
          0,
          1
         ],
         "title": {
          "text": "Win_rate_of_champion"
         }
        },
        "xaxis2": {
         "anchor": "y2",
         "domain": [
          0,
          1
         ],
         "matches": "x",
         "showgrid": true,
         "showticklabels": false
        },
        "yaxis": {
         "anchor": "x",
         "domain": [
          0,
          0.8316
         ],
         "title": {
          "text": "count"
         }
        },
        "yaxis2": {
         "anchor": "x2",
         "domain": [
          0.8416,
          1
         ],
         "matches": "y2",
         "showgrid": false,
         "showline": false,
         "showticklabels": false,
         "ticks": ""
        }
       }
      }
     },
     "metadata": {}
    },
    {
     "output_type": "display_data",
     "data": {
      "application/vnd.plotly.v1+json": {
       "config": {
        "plotlyServerURL": "https://plot.ly"
       },
       "data": [
        {
         "alignmentgroup": "True",
         "bingroup": "x",
         "hovertemplate": "Pick_rate_of_champion=%{x}<br>count=%{y}<extra></extra>",
         "legendgroup": "",
         "marker": {
          "color": "#636efa"
         },
         "name": "",
         "offsetgroup": "",
         "orientation": "v",
         "showlegend": false,
         "type": "histogram",
         "x": [
          0.153,
          0.198,
          0.078,
          0.156,
          0.111,
          0.0819999999999999,
          0.223,
          0.1009999999999999,
          0.066,
          0.127,
          0.286,
          0.127,
          0.105,
          0.086,
          0.066,
          0.061,
          0.1,
          0.067,
          0.0579999999999999,
          0.0819999999999999,
          0.0409999999999999,
          0.121,
          0.072,
          0.149,
          0.142,
          0.07,
          0.0139999999999999,
          0.018,
          0.084,
          0.086,
          0.1009999999999999,
          0.025,
          0.069,
          0.059,
          0.043,
          0.063,
          0.021,
          0.062,
          0.043,
          0.091,
          0.083,
          0.03,
          0.033,
          0.03,
          0.138,
          0.061,
          0.081,
          0.046,
          0.2339999999999999,
          0.051,
          0.061,
          0.084,
          0.034,
          0.023,
          0.105,
          0.076,
          0.035,
          0.077,
          0.083,
          0.052,
          0.065,
          0.015,
          0.066,
          0.048,
          0.087,
          0.061,
          0.071,
          0.027,
          0.072,
          0.043,
          0.149,
          0.03,
          0.068,
          0.011,
          0.0289999999999999,
          0.022,
          0.042,
          0.049,
          0.02,
          0.059,
          0.068,
          0.062,
          0.023,
          0.074,
          0.042,
          0.051,
          0.04,
          0.085,
          0.057,
          0.05,
          0.1119999999999999,
          0.022,
          0.015,
          0.053,
          0.015,
          0.081,
          0.037,
          0.0559999999999999,
          0.026,
          0.027,
          0.0289999999999999,
          0.046,
          0.0579999999999999,
          0.045,
          0.042,
          0.0279999999999999,
          0.016,
          0.027,
          0.022,
          0.025,
          0.054,
          0.053,
          0.037,
          0.06,
          0.053,
          0.019,
          0.059,
          0.065,
          0.011,
          0.019,
          0.033,
          0.04,
          0.039,
          0.023,
          0.062,
          0.02,
          0.039,
          0.018,
          0.032,
          0.038,
          0.027,
          0.026,
          0.017,
          0.0279999999999999,
          0.03,
          0.065,
          0.048,
          0.0409999999999999,
          0.031,
          0.035,
          0.015,
          0.0279999999999999,
          0.024,
          0.031,
          0.016,
          0.015,
          0.037,
          0.05,
          0.031,
          0.016,
          0.027,
          0.022,
          0.017,
          0.023,
          0.038,
          0.0409999999999999,
          0.027,
          0.02,
          0.012,
          0.038,
          0.015,
          0.016,
          0.025,
          0.016,
          0.0279999999999999,
          0.027,
          0.023,
          0.03,
          0.027,
          0.01,
          0.01,
          0.031,
          0.033,
          0.012,
          0.024,
          0.031,
          0.079,
          0.005,
          0.008,
          0.008,
          0.009,
          0.009,
          0.009,
          0.009,
          0.011,
          0.009,
          0.008,
          0.005,
          0.009,
          0.008,
          0.005,
          0.01,
          0.011,
          0.0069999999999999,
          0.008,
          0.0069999999999999,
          0.006,
          0.0069999999999999,
          0.006,
          0.008,
          0.005,
          0.008
         ],
         "xaxis": "x",
         "yaxis": "y"
        },
        {
         "alignmentgroup": "True",
         "hovertemplate": "Pick_rate_of_champion=%{x}<extra></extra>",
         "legendgroup": "",
         "marker": {
          "color": "#636efa"
         },
         "name": "",
         "offsetgroup": "",
         "scalegroup": "x",
         "showlegend": false,
         "type": "violin",
         "x": [
          0.153,
          0.198,
          0.078,
          0.156,
          0.111,
          0.0819999999999999,
          0.223,
          0.1009999999999999,
          0.066,
          0.127,
          0.286,
          0.127,
          0.105,
          0.086,
          0.066,
          0.061,
          0.1,
          0.067,
          0.0579999999999999,
          0.0819999999999999,
          0.0409999999999999,
          0.121,
          0.072,
          0.149,
          0.142,
          0.07,
          0.0139999999999999,
          0.018,
          0.084,
          0.086,
          0.1009999999999999,
          0.025,
          0.069,
          0.059,
          0.043,
          0.063,
          0.021,
          0.062,
          0.043,
          0.091,
          0.083,
          0.03,
          0.033,
          0.03,
          0.138,
          0.061,
          0.081,
          0.046,
          0.2339999999999999,
          0.051,
          0.061,
          0.084,
          0.034,
          0.023,
          0.105,
          0.076,
          0.035,
          0.077,
          0.083,
          0.052,
          0.065,
          0.015,
          0.066,
          0.048,
          0.087,
          0.061,
          0.071,
          0.027,
          0.072,
          0.043,
          0.149,
          0.03,
          0.068,
          0.011,
          0.0289999999999999,
          0.022,
          0.042,
          0.049,
          0.02,
          0.059,
          0.068,
          0.062,
          0.023,
          0.074,
          0.042,
          0.051,
          0.04,
          0.085,
          0.057,
          0.05,
          0.1119999999999999,
          0.022,
          0.015,
          0.053,
          0.015,
          0.081,
          0.037,
          0.0559999999999999,
          0.026,
          0.027,
          0.0289999999999999,
          0.046,
          0.0579999999999999,
          0.045,
          0.042,
          0.0279999999999999,
          0.016,
          0.027,
          0.022,
          0.025,
          0.054,
          0.053,
          0.037,
          0.06,
          0.053,
          0.019,
          0.059,
          0.065,
          0.011,
          0.019,
          0.033,
          0.04,
          0.039,
          0.023,
          0.062,
          0.02,
          0.039,
          0.018,
          0.032,
          0.038,
          0.027,
          0.026,
          0.017,
          0.0279999999999999,
          0.03,
          0.065,
          0.048,
          0.0409999999999999,
          0.031,
          0.035,
          0.015,
          0.0279999999999999,
          0.024,
          0.031,
          0.016,
          0.015,
          0.037,
          0.05,
          0.031,
          0.016,
          0.027,
          0.022,
          0.017,
          0.023,
          0.038,
          0.0409999999999999,
          0.027,
          0.02,
          0.012,
          0.038,
          0.015,
          0.016,
          0.025,
          0.016,
          0.0279999999999999,
          0.027,
          0.023,
          0.03,
          0.027,
          0.01,
          0.01,
          0.031,
          0.033,
          0.012,
          0.024,
          0.031,
          0.079,
          0.005,
          0.008,
          0.008,
          0.009,
          0.009,
          0.009,
          0.009,
          0.011,
          0.009,
          0.008,
          0.005,
          0.009,
          0.008,
          0.005,
          0.01,
          0.011,
          0.0069999999999999,
          0.008,
          0.0069999999999999,
          0.006,
          0.0069999999999999,
          0.006,
          0.008,
          0.005,
          0.008
         ],
         "xaxis": "x2",
         "yaxis": "y2"
        }
       ],
       "layout": {
        "barmode": "relative",
        "legend": {
         "tracegroupgap": 0
        },
        "template": {
         "data": {
          "bar": [
           {
            "error_x": {
             "color": "#2a3f5f"
            },
            "error_y": {
             "color": "#2a3f5f"
            },
            "marker": {
             "line": {
              "color": "#E5ECF6",
              "width": 0.5
             }
            },
            "type": "bar"
           }
          ],
          "barpolar": [
           {
            "marker": {
             "line": {
              "color": "#E5ECF6",
              "width": 0.5
             }
            },
            "type": "barpolar"
           }
          ],
          "carpet": [
           {
            "aaxis": {
             "endlinecolor": "#2a3f5f",
             "gridcolor": "white",
             "linecolor": "white",
             "minorgridcolor": "white",
             "startlinecolor": "#2a3f5f"
            },
            "baxis": {
             "endlinecolor": "#2a3f5f",
             "gridcolor": "white",
             "linecolor": "white",
             "minorgridcolor": "white",
             "startlinecolor": "#2a3f5f"
            },
            "type": "carpet"
           }
          ],
          "choropleth": [
           {
            "colorbar": {
             "outlinewidth": 0,
             "ticks": ""
            },
            "type": "choropleth"
           }
          ],
          "contour": [
           {
            "colorbar": {
             "outlinewidth": 0,
             "ticks": ""
            },
            "colorscale": [
             [
              0,
              "#0d0887"
             ],
             [
              0.1111111111111111,
              "#46039f"
             ],
             [
              0.2222222222222222,
              "#7201a8"
             ],
             [
              0.3333333333333333,
              "#9c179e"
             ],
             [
              0.4444444444444444,
              "#bd3786"
             ],
             [
              0.5555555555555556,
              "#d8576b"
             ],
             [
              0.6666666666666666,
              "#ed7953"
             ],
             [
              0.7777777777777778,
              "#fb9f3a"
             ],
             [
              0.8888888888888888,
              "#fdca26"
             ],
             [
              1,
              "#f0f921"
             ]
            ],
            "type": "contour"
           }
          ],
          "contourcarpet": [
           {
            "colorbar": {
             "outlinewidth": 0,
             "ticks": ""
            },
            "type": "contourcarpet"
           }
          ],
          "heatmap": [
           {
            "colorbar": {
             "outlinewidth": 0,
             "ticks": ""
            },
            "colorscale": [
             [
              0,
              "#0d0887"
             ],
             [
              0.1111111111111111,
              "#46039f"
             ],
             [
              0.2222222222222222,
              "#7201a8"
             ],
             [
              0.3333333333333333,
              "#9c179e"
             ],
             [
              0.4444444444444444,
              "#bd3786"
             ],
             [
              0.5555555555555556,
              "#d8576b"
             ],
             [
              0.6666666666666666,
              "#ed7953"
             ],
             [
              0.7777777777777778,
              "#fb9f3a"
             ],
             [
              0.8888888888888888,
              "#fdca26"
             ],
             [
              1,
              "#f0f921"
             ]
            ],
            "type": "heatmap"
           }
          ],
          "heatmapgl": [
           {
            "colorbar": {
             "outlinewidth": 0,
             "ticks": ""
            },
            "colorscale": [
             [
              0,
              "#0d0887"
             ],
             [
              0.1111111111111111,
              "#46039f"
             ],
             [
              0.2222222222222222,
              "#7201a8"
             ],
             [
              0.3333333333333333,
              "#9c179e"
             ],
             [
              0.4444444444444444,
              "#bd3786"
             ],
             [
              0.5555555555555556,
              "#d8576b"
             ],
             [
              0.6666666666666666,
              "#ed7953"
             ],
             [
              0.7777777777777778,
              "#fb9f3a"
             ],
             [
              0.8888888888888888,
              "#fdca26"
             ],
             [
              1,
              "#f0f921"
             ]
            ],
            "type": "heatmapgl"
           }
          ],
          "histogram": [
           {
            "marker": {
             "colorbar": {
              "outlinewidth": 0,
              "ticks": ""
             }
            },
            "type": "histogram"
           }
          ],
          "histogram2d": [
           {
            "colorbar": {
             "outlinewidth": 0,
             "ticks": ""
            },
            "colorscale": [
             [
              0,
              "#0d0887"
             ],
             [
              0.1111111111111111,
              "#46039f"
             ],
             [
              0.2222222222222222,
              "#7201a8"
             ],
             [
              0.3333333333333333,
              "#9c179e"
             ],
             [
              0.4444444444444444,
              "#bd3786"
             ],
             [
              0.5555555555555556,
              "#d8576b"
             ],
             [
              0.6666666666666666,
              "#ed7953"
             ],
             [
              0.7777777777777778,
              "#fb9f3a"
             ],
             [
              0.8888888888888888,
              "#fdca26"
             ],
             [
              1,
              "#f0f921"
             ]
            ],
            "type": "histogram2d"
           }
          ],
          "histogram2dcontour": [
           {
            "colorbar": {
             "outlinewidth": 0,
             "ticks": ""
            },
            "colorscale": [
             [
              0,
              "#0d0887"
             ],
             [
              0.1111111111111111,
              "#46039f"
             ],
             [
              0.2222222222222222,
              "#7201a8"
             ],
             [
              0.3333333333333333,
              "#9c179e"
             ],
             [
              0.4444444444444444,
              "#bd3786"
             ],
             [
              0.5555555555555556,
              "#d8576b"
             ],
             [
              0.6666666666666666,
              "#ed7953"
             ],
             [
              0.7777777777777778,
              "#fb9f3a"
             ],
             [
              0.8888888888888888,
              "#fdca26"
             ],
             [
              1,
              "#f0f921"
             ]
            ],
            "type": "histogram2dcontour"
           }
          ],
          "mesh3d": [
           {
            "colorbar": {
             "outlinewidth": 0,
             "ticks": ""
            },
            "type": "mesh3d"
           }
          ],
          "parcoords": [
           {
            "line": {
             "colorbar": {
              "outlinewidth": 0,
              "ticks": ""
             }
            },
            "type": "parcoords"
           }
          ],
          "pie": [
           {
            "automargin": true,
            "type": "pie"
           }
          ],
          "scatter": [
           {
            "marker": {
             "colorbar": {
              "outlinewidth": 0,
              "ticks": ""
             }
            },
            "type": "scatter"
           }
          ],
          "scatter3d": [
           {
            "line": {
             "colorbar": {
              "outlinewidth": 0,
              "ticks": ""
             }
            },
            "marker": {
             "colorbar": {
              "outlinewidth": 0,
              "ticks": ""
             }
            },
            "type": "scatter3d"
           }
          ],
          "scattercarpet": [
           {
            "marker": {
             "colorbar": {
              "outlinewidth": 0,
              "ticks": ""
             }
            },
            "type": "scattercarpet"
           }
          ],
          "scattergeo": [
           {
            "marker": {
             "colorbar": {
              "outlinewidth": 0,
              "ticks": ""
             }
            },
            "type": "scattergeo"
           }
          ],
          "scattergl": [
           {
            "marker": {
             "colorbar": {
              "outlinewidth": 0,
              "ticks": ""
             }
            },
            "type": "scattergl"
           }
          ],
          "scattermapbox": [
           {
            "marker": {
             "colorbar": {
              "outlinewidth": 0,
              "ticks": ""
             }
            },
            "type": "scattermapbox"
           }
          ],
          "scatterpolar": [
           {
            "marker": {
             "colorbar": {
              "outlinewidth": 0,
              "ticks": ""
             }
            },
            "type": "scatterpolar"
           }
          ],
          "scatterpolargl": [
           {
            "marker": {
             "colorbar": {
              "outlinewidth": 0,
              "ticks": ""
             }
            },
            "type": "scatterpolargl"
           }
          ],
          "scatterternary": [
           {
            "marker": {
             "colorbar": {
              "outlinewidth": 0,
              "ticks": ""
             }
            },
            "type": "scatterternary"
           }
          ],
          "surface": [
           {
            "colorbar": {
             "outlinewidth": 0,
             "ticks": ""
            },
            "colorscale": [
             [
              0,
              "#0d0887"
             ],
             [
              0.1111111111111111,
              "#46039f"
             ],
             [
              0.2222222222222222,
              "#7201a8"
             ],
             [
              0.3333333333333333,
              "#9c179e"
             ],
             [
              0.4444444444444444,
              "#bd3786"
             ],
             [
              0.5555555555555556,
              "#d8576b"
             ],
             [
              0.6666666666666666,
              "#ed7953"
             ],
             [
              0.7777777777777778,
              "#fb9f3a"
             ],
             [
              0.8888888888888888,
              "#fdca26"
             ],
             [
              1,
              "#f0f921"
             ]
            ],
            "type": "surface"
           }
          ],
          "table": [
           {
            "cells": {
             "fill": {
              "color": "#EBF0F8"
             },
             "line": {
              "color": "white"
             }
            },
            "header": {
             "fill": {
              "color": "#C8D4E3"
             },
             "line": {
              "color": "white"
             }
            },
            "type": "table"
           }
          ]
         },
         "layout": {
          "annotationdefaults": {
           "arrowcolor": "#2a3f5f",
           "arrowhead": 0,
           "arrowwidth": 1
          },
          "autotypenumbers": "strict",
          "coloraxis": {
           "colorbar": {
            "outlinewidth": 0,
            "ticks": ""
           }
          },
          "colorscale": {
           "diverging": [
            [
             0,
             "#8e0152"
            ],
            [
             0.1,
             "#c51b7d"
            ],
            [
             0.2,
             "#de77ae"
            ],
            [
             0.3,
             "#f1b6da"
            ],
            [
             0.4,
             "#fde0ef"
            ],
            [
             0.5,
             "#f7f7f7"
            ],
            [
             0.6,
             "#e6f5d0"
            ],
            [
             0.7,
             "#b8e186"
            ],
            [
             0.8,
             "#7fbc41"
            ],
            [
             0.9,
             "#4d9221"
            ],
            [
             1,
             "#276419"
            ]
           ],
           "sequential": [
            [
             0,
             "#0d0887"
            ],
            [
             0.1111111111111111,
             "#46039f"
            ],
            [
             0.2222222222222222,
             "#7201a8"
            ],
            [
             0.3333333333333333,
             "#9c179e"
            ],
            [
             0.4444444444444444,
             "#bd3786"
            ],
            [
             0.5555555555555556,
             "#d8576b"
            ],
            [
             0.6666666666666666,
             "#ed7953"
            ],
            [
             0.7777777777777778,
             "#fb9f3a"
            ],
            [
             0.8888888888888888,
             "#fdca26"
            ],
            [
             1,
             "#f0f921"
            ]
           ],
           "sequentialminus": [
            [
             0,
             "#0d0887"
            ],
            [
             0.1111111111111111,
             "#46039f"
            ],
            [
             0.2222222222222222,
             "#7201a8"
            ],
            [
             0.3333333333333333,
             "#9c179e"
            ],
            [
             0.4444444444444444,
             "#bd3786"
            ],
            [
             0.5555555555555556,
             "#d8576b"
            ],
            [
             0.6666666666666666,
             "#ed7953"
            ],
            [
             0.7777777777777778,
             "#fb9f3a"
            ],
            [
             0.8888888888888888,
             "#fdca26"
            ],
            [
             1,
             "#f0f921"
            ]
           ]
          },
          "colorway": [
           "#636efa",
           "#EF553B",
           "#00cc96",
           "#ab63fa",
           "#FFA15A",
           "#19d3f3",
           "#FF6692",
           "#B6E880",
           "#FF97FF",
           "#FECB52"
          ],
          "font": {
           "color": "#2a3f5f"
          },
          "geo": {
           "bgcolor": "white",
           "lakecolor": "white",
           "landcolor": "#E5ECF6",
           "showlakes": true,
           "showland": true,
           "subunitcolor": "white"
          },
          "hoverlabel": {
           "align": "left"
          },
          "hovermode": "closest",
          "mapbox": {
           "style": "light"
          },
          "paper_bgcolor": "white",
          "plot_bgcolor": "#E5ECF6",
          "polar": {
           "angularaxis": {
            "gridcolor": "white",
            "linecolor": "white",
            "ticks": ""
           },
           "bgcolor": "#E5ECF6",
           "radialaxis": {
            "gridcolor": "white",
            "linecolor": "white",
            "ticks": ""
           }
          },
          "scene": {
           "xaxis": {
            "backgroundcolor": "#E5ECF6",
            "gridcolor": "white",
            "gridwidth": 2,
            "linecolor": "white",
            "showbackground": true,
            "ticks": "",
            "zerolinecolor": "white"
           },
           "yaxis": {
            "backgroundcolor": "#E5ECF6",
            "gridcolor": "white",
            "gridwidth": 2,
            "linecolor": "white",
            "showbackground": true,
            "ticks": "",
            "zerolinecolor": "white"
           },
           "zaxis": {
            "backgroundcolor": "#E5ECF6",
            "gridcolor": "white",
            "gridwidth": 2,
            "linecolor": "white",
            "showbackground": true,
            "ticks": "",
            "zerolinecolor": "white"
           }
          },
          "shapedefaults": {
           "line": {
            "color": "#2a3f5f"
           }
          },
          "ternary": {
           "aaxis": {
            "gridcolor": "white",
            "linecolor": "white",
            "ticks": ""
           },
           "baxis": {
            "gridcolor": "white",
            "linecolor": "white",
            "ticks": ""
           },
           "bgcolor": "#E5ECF6",
           "caxis": {
            "gridcolor": "white",
            "linecolor": "white",
            "ticks": ""
           }
          },
          "title": {
           "x": 0.05
          },
          "xaxis": {
           "automargin": true,
           "gridcolor": "white",
           "linecolor": "white",
           "ticks": "",
           "title": {
            "standoff": 15
           },
           "zerolinecolor": "white",
           "zerolinewidth": 2
          },
          "yaxis": {
           "automargin": true,
           "gridcolor": "white",
           "linecolor": "white",
           "ticks": "",
           "title": {
            "standoff": 15
           },
           "zerolinecolor": "white",
           "zerolinewidth": 2
          }
         }
        },
        "title": {
         "text": "Pick_rate_of_champion histogram"
        },
        "xaxis": {
         "anchor": "y",
         "domain": [
          0,
          1
         ],
         "title": {
          "text": "Pick_rate_of_champion"
         }
        },
        "xaxis2": {
         "anchor": "y2",
         "domain": [
          0,
          1
         ],
         "matches": "x",
         "showgrid": true,
         "showticklabels": false
        },
        "yaxis": {
         "anchor": "x",
         "domain": [
          0,
          0.8316
         ],
         "title": {
          "text": "count"
         }
        },
        "yaxis2": {
         "anchor": "x2",
         "domain": [
          0.8416,
          1
         ],
         "matches": "y2",
         "showgrid": false,
         "showline": false,
         "showticklabels": false,
         "ticks": ""
        }
       }
      }
     },
     "metadata": {}
    },
    {
     "output_type": "display_data",
     "data": {
      "application/vnd.plotly.v1+json": {
       "config": {
        "plotlyServerURL": "https://plot.ly"
       },
       "data": [
        {
         "alignmentgroup": "True",
         "bingroup": "x",
         "hovertemplate": "Move_speed=%{x}<br>count=%{y}<extra></extra>",
         "legendgroup": "",
         "marker": {
          "color": "#636efa"
         },
         "name": "",
         "offsetgroup": "",
         "orientation": "v",
         "showlegend": false,
         "type": "histogram",
         "x": [
          330,
          335,
          340,
          345,
          345,
          340,
          325,
          350,
          340,
          345,
          335,
          345,
          340,
          340,
          340,
          335,
          345,
          340,
          335,
          350,
          335,
          335,
          345,
          335,
          325,
          335,
          335,
          335,
          350,
          330,
          330,
          345,
          330,
          340,
          335,
          330,
          340,
          335,
          335,
          340,
          345,
          350,
          335,
          335,
          330,
          340,
          335,
          340,
          325,
          350,
          335,
          340,
          335,
          340,
          330,
          330,
          325,
          325,
          335,
          335,
          345,
          330,
          350,
          330,
          325,
          345,
          330,
          345,
          345,
          345,
          325,
          335,
          325,
          325,
          335,
          335,
          335,
          335,
          325,
          335,
          340,
          340,
          335,
          345,
          345,
          335,
          335,
          335,
          345,
          330,
          330,
          330,
          330,
          340,
          340,
          325,
          330,
          330,
          340,
          345,
          345,
          325,
          335,
          335,
          335,
          325,
          350,
          340,
          345,
          345,
          345,
          315,
          345,
          325,
          330,
          340,
          325,
          345,
          335,
          335,
          330,
          335,
          335,
          328,
          335,
          340,
          340,
          330,
          330,
          330,
          330,
          340,
          330,
          340,
          335,
          335,
          355,
          345,
          340,
          330,
          345,
          330,
          345,
          335,
          345,
          345,
          325,
          325,
          325,
          335,
          340,
          340,
          335,
          335,
          345,
          340,
          350,
          335,
          325,
          335,
          335,
          330,
          340,
          340,
          340,
          330,
          340,
          325,
          340,
          345,
          345,
          340,
          335,
          325,
          345,
          345,
          345,
          335,
          340,
          345,
          345,
          350,
          345,
          325,
          345,
          340,
          340,
          340,
          340,
          335,
          328,
          340,
          340,
          325,
          325,
          325,
          345,
          335,
          325,
          345,
          350,
          350
         ],
         "xaxis": "x",
         "yaxis": "y"
        },
        {
         "alignmentgroup": "True",
         "hovertemplate": "Move_speed=%{x}<extra></extra>",
         "legendgroup": "",
         "marker": {
          "color": "#636efa"
         },
         "name": "",
         "offsetgroup": "",
         "scalegroup": "x",
         "showlegend": false,
         "type": "violin",
         "x": [
          330,
          335,
          340,
          345,
          345,
          340,
          325,
          350,
          340,
          345,
          335,
          345,
          340,
          340,
          340,
          335,
          345,
          340,
          335,
          350,
          335,
          335,
          345,
          335,
          325,
          335,
          335,
          335,
          350,
          330,
          330,
          345,
          330,
          340,
          335,
          330,
          340,
          335,
          335,
          340,
          345,
          350,
          335,
          335,
          330,
          340,
          335,
          340,
          325,
          350,
          335,
          340,
          335,
          340,
          330,
          330,
          325,
          325,
          335,
          335,
          345,
          330,
          350,
          330,
          325,
          345,
          330,
          345,
          345,
          345,
          325,
          335,
          325,
          325,
          335,
          335,
          335,
          335,
          325,
          335,
          340,
          340,
          335,
          345,
          345,
          335,
          335,
          335,
          345,
          330,
          330,
          330,
          330,
          340,
          340,
          325,
          330,
          330,
          340,
          345,
          345,
          325,
          335,
          335,
          335,
          325,
          350,
          340,
          345,
          345,
          345,
          315,
          345,
          325,
          330,
          340,
          325,
          345,
          335,
          335,
          330,
          335,
          335,
          328,
          335,
          340,
          340,
          330,
          330,
          330,
          330,
          340,
          330,
          340,
          335,
          335,
          355,
          345,
          340,
          330,
          345,
          330,
          345,
          335,
          345,
          345,
          325,
          325,
          325,
          335,
          340,
          340,
          335,
          335,
          345,
          340,
          350,
          335,
          325,
          335,
          335,
          330,
          340,
          340,
          340,
          330,
          340,
          325,
          340,
          345,
          345,
          340,
          335,
          325,
          345,
          345,
          345,
          335,
          340,
          345,
          345,
          350,
          345,
          325,
          345,
          340,
          340,
          340,
          340,
          335,
          328,
          340,
          340,
          325,
          325,
          325,
          345,
          335,
          325,
          345,
          350,
          350
         ],
         "xaxis": "x2",
         "yaxis": "y2"
        }
       ],
       "layout": {
        "barmode": "relative",
        "legend": {
         "tracegroupgap": 0
        },
        "template": {
         "data": {
          "bar": [
           {
            "error_x": {
             "color": "#2a3f5f"
            },
            "error_y": {
             "color": "#2a3f5f"
            },
            "marker": {
             "line": {
              "color": "#E5ECF6",
              "width": 0.5
             }
            },
            "type": "bar"
           }
          ],
          "barpolar": [
           {
            "marker": {
             "line": {
              "color": "#E5ECF6",
              "width": 0.5
             }
            },
            "type": "barpolar"
           }
          ],
          "carpet": [
           {
            "aaxis": {
             "endlinecolor": "#2a3f5f",
             "gridcolor": "white",
             "linecolor": "white",
             "minorgridcolor": "white",
             "startlinecolor": "#2a3f5f"
            },
            "baxis": {
             "endlinecolor": "#2a3f5f",
             "gridcolor": "white",
             "linecolor": "white",
             "minorgridcolor": "white",
             "startlinecolor": "#2a3f5f"
            },
            "type": "carpet"
           }
          ],
          "choropleth": [
           {
            "colorbar": {
             "outlinewidth": 0,
             "ticks": ""
            },
            "type": "choropleth"
           }
          ],
          "contour": [
           {
            "colorbar": {
             "outlinewidth": 0,
             "ticks": ""
            },
            "colorscale": [
             [
              0,
              "#0d0887"
             ],
             [
              0.1111111111111111,
              "#46039f"
             ],
             [
              0.2222222222222222,
              "#7201a8"
             ],
             [
              0.3333333333333333,
              "#9c179e"
             ],
             [
              0.4444444444444444,
              "#bd3786"
             ],
             [
              0.5555555555555556,
              "#d8576b"
             ],
             [
              0.6666666666666666,
              "#ed7953"
             ],
             [
              0.7777777777777778,
              "#fb9f3a"
             ],
             [
              0.8888888888888888,
              "#fdca26"
             ],
             [
              1,
              "#f0f921"
             ]
            ],
            "type": "contour"
           }
          ],
          "contourcarpet": [
           {
            "colorbar": {
             "outlinewidth": 0,
             "ticks": ""
            },
            "type": "contourcarpet"
           }
          ],
          "heatmap": [
           {
            "colorbar": {
             "outlinewidth": 0,
             "ticks": ""
            },
            "colorscale": [
             [
              0,
              "#0d0887"
             ],
             [
              0.1111111111111111,
              "#46039f"
             ],
             [
              0.2222222222222222,
              "#7201a8"
             ],
             [
              0.3333333333333333,
              "#9c179e"
             ],
             [
              0.4444444444444444,
              "#bd3786"
             ],
             [
              0.5555555555555556,
              "#d8576b"
             ],
             [
              0.6666666666666666,
              "#ed7953"
             ],
             [
              0.7777777777777778,
              "#fb9f3a"
             ],
             [
              0.8888888888888888,
              "#fdca26"
             ],
             [
              1,
              "#f0f921"
             ]
            ],
            "type": "heatmap"
           }
          ],
          "heatmapgl": [
           {
            "colorbar": {
             "outlinewidth": 0,
             "ticks": ""
            },
            "colorscale": [
             [
              0,
              "#0d0887"
             ],
             [
              0.1111111111111111,
              "#46039f"
             ],
             [
              0.2222222222222222,
              "#7201a8"
             ],
             [
              0.3333333333333333,
              "#9c179e"
             ],
             [
              0.4444444444444444,
              "#bd3786"
             ],
             [
              0.5555555555555556,
              "#d8576b"
             ],
             [
              0.6666666666666666,
              "#ed7953"
             ],
             [
              0.7777777777777778,
              "#fb9f3a"
             ],
             [
              0.8888888888888888,
              "#fdca26"
             ],
             [
              1,
              "#f0f921"
             ]
            ],
            "type": "heatmapgl"
           }
          ],
          "histogram": [
           {
            "marker": {
             "colorbar": {
              "outlinewidth": 0,
              "ticks": ""
             }
            },
            "type": "histogram"
           }
          ],
          "histogram2d": [
           {
            "colorbar": {
             "outlinewidth": 0,
             "ticks": ""
            },
            "colorscale": [
             [
              0,
              "#0d0887"
             ],
             [
              0.1111111111111111,
              "#46039f"
             ],
             [
              0.2222222222222222,
              "#7201a8"
             ],
             [
              0.3333333333333333,
              "#9c179e"
             ],
             [
              0.4444444444444444,
              "#bd3786"
             ],
             [
              0.5555555555555556,
              "#d8576b"
             ],
             [
              0.6666666666666666,
              "#ed7953"
             ],
             [
              0.7777777777777778,
              "#fb9f3a"
             ],
             [
              0.8888888888888888,
              "#fdca26"
             ],
             [
              1,
              "#f0f921"
             ]
            ],
            "type": "histogram2d"
           }
          ],
          "histogram2dcontour": [
           {
            "colorbar": {
             "outlinewidth": 0,
             "ticks": ""
            },
            "colorscale": [
             [
              0,
              "#0d0887"
             ],
             [
              0.1111111111111111,
              "#46039f"
             ],
             [
              0.2222222222222222,
              "#7201a8"
             ],
             [
              0.3333333333333333,
              "#9c179e"
             ],
             [
              0.4444444444444444,
              "#bd3786"
             ],
             [
              0.5555555555555556,
              "#d8576b"
             ],
             [
              0.6666666666666666,
              "#ed7953"
             ],
             [
              0.7777777777777778,
              "#fb9f3a"
             ],
             [
              0.8888888888888888,
              "#fdca26"
             ],
             [
              1,
              "#f0f921"
             ]
            ],
            "type": "histogram2dcontour"
           }
          ],
          "mesh3d": [
           {
            "colorbar": {
             "outlinewidth": 0,
             "ticks": ""
            },
            "type": "mesh3d"
           }
          ],
          "parcoords": [
           {
            "line": {
             "colorbar": {
              "outlinewidth": 0,
              "ticks": ""
             }
            },
            "type": "parcoords"
           }
          ],
          "pie": [
           {
            "automargin": true,
            "type": "pie"
           }
          ],
          "scatter": [
           {
            "marker": {
             "colorbar": {
              "outlinewidth": 0,
              "ticks": ""
             }
            },
            "type": "scatter"
           }
          ],
          "scatter3d": [
           {
            "line": {
             "colorbar": {
              "outlinewidth": 0,
              "ticks": ""
             }
            },
            "marker": {
             "colorbar": {
              "outlinewidth": 0,
              "ticks": ""
             }
            },
            "type": "scatter3d"
           }
          ],
          "scattercarpet": [
           {
            "marker": {
             "colorbar": {
              "outlinewidth": 0,
              "ticks": ""
             }
            },
            "type": "scattercarpet"
           }
          ],
          "scattergeo": [
           {
            "marker": {
             "colorbar": {
              "outlinewidth": 0,
              "ticks": ""
             }
            },
            "type": "scattergeo"
           }
          ],
          "scattergl": [
           {
            "marker": {
             "colorbar": {
              "outlinewidth": 0,
              "ticks": ""
             }
            },
            "type": "scattergl"
           }
          ],
          "scattermapbox": [
           {
            "marker": {
             "colorbar": {
              "outlinewidth": 0,
              "ticks": ""
             }
            },
            "type": "scattermapbox"
           }
          ],
          "scatterpolar": [
           {
            "marker": {
             "colorbar": {
              "outlinewidth": 0,
              "ticks": ""
             }
            },
            "type": "scatterpolar"
           }
          ],
          "scatterpolargl": [
           {
            "marker": {
             "colorbar": {
              "outlinewidth": 0,
              "ticks": ""
             }
            },
            "type": "scatterpolargl"
           }
          ],
          "scatterternary": [
           {
            "marker": {
             "colorbar": {
              "outlinewidth": 0,
              "ticks": ""
             }
            },
            "type": "scatterternary"
           }
          ],
          "surface": [
           {
            "colorbar": {
             "outlinewidth": 0,
             "ticks": ""
            },
            "colorscale": [
             [
              0,
              "#0d0887"
             ],
             [
              0.1111111111111111,
              "#46039f"
             ],
             [
              0.2222222222222222,
              "#7201a8"
             ],
             [
              0.3333333333333333,
              "#9c179e"
             ],
             [
              0.4444444444444444,
              "#bd3786"
             ],
             [
              0.5555555555555556,
              "#d8576b"
             ],
             [
              0.6666666666666666,
              "#ed7953"
             ],
             [
              0.7777777777777778,
              "#fb9f3a"
             ],
             [
              0.8888888888888888,
              "#fdca26"
             ],
             [
              1,
              "#f0f921"
             ]
            ],
            "type": "surface"
           }
          ],
          "table": [
           {
            "cells": {
             "fill": {
              "color": "#EBF0F8"
             },
             "line": {
              "color": "white"
             }
            },
            "header": {
             "fill": {
              "color": "#C8D4E3"
             },
             "line": {
              "color": "white"
             }
            },
            "type": "table"
           }
          ]
         },
         "layout": {
          "annotationdefaults": {
           "arrowcolor": "#2a3f5f",
           "arrowhead": 0,
           "arrowwidth": 1
          },
          "autotypenumbers": "strict",
          "coloraxis": {
           "colorbar": {
            "outlinewidth": 0,
            "ticks": ""
           }
          },
          "colorscale": {
           "diverging": [
            [
             0,
             "#8e0152"
            ],
            [
             0.1,
             "#c51b7d"
            ],
            [
             0.2,
             "#de77ae"
            ],
            [
             0.3,
             "#f1b6da"
            ],
            [
             0.4,
             "#fde0ef"
            ],
            [
             0.5,
             "#f7f7f7"
            ],
            [
             0.6,
             "#e6f5d0"
            ],
            [
             0.7,
             "#b8e186"
            ],
            [
             0.8,
             "#7fbc41"
            ],
            [
             0.9,
             "#4d9221"
            ],
            [
             1,
             "#276419"
            ]
           ],
           "sequential": [
            [
             0,
             "#0d0887"
            ],
            [
             0.1111111111111111,
             "#46039f"
            ],
            [
             0.2222222222222222,
             "#7201a8"
            ],
            [
             0.3333333333333333,
             "#9c179e"
            ],
            [
             0.4444444444444444,
             "#bd3786"
            ],
            [
             0.5555555555555556,
             "#d8576b"
            ],
            [
             0.6666666666666666,
             "#ed7953"
            ],
            [
             0.7777777777777778,
             "#fb9f3a"
            ],
            [
             0.8888888888888888,
             "#fdca26"
            ],
            [
             1,
             "#f0f921"
            ]
           ],
           "sequentialminus": [
            [
             0,
             "#0d0887"
            ],
            [
             0.1111111111111111,
             "#46039f"
            ],
            [
             0.2222222222222222,
             "#7201a8"
            ],
            [
             0.3333333333333333,
             "#9c179e"
            ],
            [
             0.4444444444444444,
             "#bd3786"
            ],
            [
             0.5555555555555556,
             "#d8576b"
            ],
            [
             0.6666666666666666,
             "#ed7953"
            ],
            [
             0.7777777777777778,
             "#fb9f3a"
            ],
            [
             0.8888888888888888,
             "#fdca26"
            ],
            [
             1,
             "#f0f921"
            ]
           ]
          },
          "colorway": [
           "#636efa",
           "#EF553B",
           "#00cc96",
           "#ab63fa",
           "#FFA15A",
           "#19d3f3",
           "#FF6692",
           "#B6E880",
           "#FF97FF",
           "#FECB52"
          ],
          "font": {
           "color": "#2a3f5f"
          },
          "geo": {
           "bgcolor": "white",
           "lakecolor": "white",
           "landcolor": "#E5ECF6",
           "showlakes": true,
           "showland": true,
           "subunitcolor": "white"
          },
          "hoverlabel": {
           "align": "left"
          },
          "hovermode": "closest",
          "mapbox": {
           "style": "light"
          },
          "paper_bgcolor": "white",
          "plot_bgcolor": "#E5ECF6",
          "polar": {
           "angularaxis": {
            "gridcolor": "white",
            "linecolor": "white",
            "ticks": ""
           },
           "bgcolor": "#E5ECF6",
           "radialaxis": {
            "gridcolor": "white",
            "linecolor": "white",
            "ticks": ""
           }
          },
          "scene": {
           "xaxis": {
            "backgroundcolor": "#E5ECF6",
            "gridcolor": "white",
            "gridwidth": 2,
            "linecolor": "white",
            "showbackground": true,
            "ticks": "",
            "zerolinecolor": "white"
           },
           "yaxis": {
            "backgroundcolor": "#E5ECF6",
            "gridcolor": "white",
            "gridwidth": 2,
            "linecolor": "white",
            "showbackground": true,
            "ticks": "",
            "zerolinecolor": "white"
           },
           "zaxis": {
            "backgroundcolor": "#E5ECF6",
            "gridcolor": "white",
            "gridwidth": 2,
            "linecolor": "white",
            "showbackground": true,
            "ticks": "",
            "zerolinecolor": "white"
           }
          },
          "shapedefaults": {
           "line": {
            "color": "#2a3f5f"
           }
          },
          "ternary": {
           "aaxis": {
            "gridcolor": "white",
            "linecolor": "white",
            "ticks": ""
           },
           "baxis": {
            "gridcolor": "white",
            "linecolor": "white",
            "ticks": ""
           },
           "bgcolor": "#E5ECF6",
           "caxis": {
            "gridcolor": "white",
            "linecolor": "white",
            "ticks": ""
           }
          },
          "title": {
           "x": 0.05
          },
          "xaxis": {
           "automargin": true,
           "gridcolor": "white",
           "linecolor": "white",
           "ticks": "",
           "title": {
            "standoff": 15
           },
           "zerolinecolor": "white",
           "zerolinewidth": 2
          },
          "yaxis": {
           "automargin": true,
           "gridcolor": "white",
           "linecolor": "white",
           "ticks": "",
           "title": {
            "standoff": 15
           },
           "zerolinecolor": "white",
           "zerolinewidth": 2
          }
         }
        },
        "title": {
         "text": "Move_speed histogram"
        },
        "xaxis": {
         "anchor": "y",
         "domain": [
          0,
          1
         ],
         "title": {
          "text": "Move_speed"
         }
        },
        "xaxis2": {
         "anchor": "y2",
         "domain": [
          0,
          1
         ],
         "matches": "x",
         "showgrid": true,
         "showticklabels": false
        },
        "yaxis": {
         "anchor": "x",
         "domain": [
          0,
          0.8316
         ],
         "title": {
          "text": "count"
         }
        },
        "yaxis2": {
         "anchor": "x2",
         "domain": [
          0.8416,
          1
         ],
         "matches": "y2",
         "showgrid": false,
         "showline": false,
         "showticklabels": false,
         "ticks": ""
        }
       }
      }
     },
     "metadata": {}
    },
    {
     "output_type": "display_data",
     "data": {
      "application/vnd.plotly.v1+json": {
       "config": {
        "plotlyServerURL": "https://plot.ly"
       },
       "data": [
        {
         "alignmentgroup": "True",
         "bingroup": "x",
         "hovertemplate": "Attack_range=%{x}<br>count=%{y}<extra></extra>",
         "legendgroup": "",
         "marker": {
          "color": "#636efa"
         },
         "name": "",
         "offsetgroup": "",
         "orientation": "v",
         "showlegend": false,
         "type": "histogram",
         "x": [
          550,
          450,
          175,
          175,
          175,
          125,
          525,
          125,
          175,
          125,
          525,
          125,
          175,
          175,
          125,
          150,
          175,
          125,
          525,
          125,
          500,
          125,
          150,
          500,
          525,
          125,
          125,
          125,
          125,
          550,
          500,
          175,
          500,
          150,
          125,
          350,
          550,
          175,
          150,
          425,
          125,
          125,
          125,
          625,
          550,
          125,
          450,
          125,
          550,
          125,
          500,
          175,
          550,
          125,
          125,
          525,
          550,
          125,
          150,
          125,
          125,
          500,
          125,
          550,
          600,
          125,
          550,
          125,
          175,
          175,
          650,
          125,
          525,
          525,
          125,
          125,
          480,
          525,
          550,
          125,
          150,
          125,
          150,
          175,
          125,
          550,
          175,
          400,
          125,
          550,
          600,
          600,
          125,
          125,
          125,
          175,
          500,
          325,
          525,
          125,
          125,
          600,
          500,
          175,
          175,
          550,
          125,
          175,
          175,
          175,
          150,
          550,
          125,
          500,
          150,
          525,
          525,
          125,
          125,
          175,
          550,
          125,
          175,
          550,
          525,
          550,
          525,
          550,
          550,
          450,
          125,
          525,
          475,
          175,
          500,
          200,
          125,
          175,
          550,
          575,
          175,
          550,
          125,
          450,
          125,
          125,
          550,
          525,
          550,
          525,
          525,
          150,
          525,
          125,
          125,
          125,
          125,
          525,
          550,
          300,
          550,
          450,
          575,
          550,
          550,
          125,
          125,
          525,
          175,
          125,
          125,
          550,
          200,
          525,
          225,
          225,
          225,
          175,
          125,
          175,
          125,
          125,
          125,
          550,
          125,
          175,
          550,
          550,
          550,
          125,
          550,
          550,
          150,
          525,
          525,
          550,
          125,
          550,
          600,
          175,
          175,
          175
         ],
         "xaxis": "x",
         "yaxis": "y"
        },
        {
         "alignmentgroup": "True",
         "hovertemplate": "Attack_range=%{x}<extra></extra>",
         "legendgroup": "",
         "marker": {
          "color": "#636efa"
         },
         "name": "",
         "offsetgroup": "",
         "scalegroup": "x",
         "showlegend": false,
         "type": "violin",
         "x": [
          550,
          450,
          175,
          175,
          175,
          125,
          525,
          125,
          175,
          125,
          525,
          125,
          175,
          175,
          125,
          150,
          175,
          125,
          525,
          125,
          500,
          125,
          150,
          500,
          525,
          125,
          125,
          125,
          125,
          550,
          500,
          175,
          500,
          150,
          125,
          350,
          550,
          175,
          150,
          425,
          125,
          125,
          125,
          625,
          550,
          125,
          450,
          125,
          550,
          125,
          500,
          175,
          550,
          125,
          125,
          525,
          550,
          125,
          150,
          125,
          125,
          500,
          125,
          550,
          600,
          125,
          550,
          125,
          175,
          175,
          650,
          125,
          525,
          525,
          125,
          125,
          480,
          525,
          550,
          125,
          150,
          125,
          150,
          175,
          125,
          550,
          175,
          400,
          125,
          550,
          600,
          600,
          125,
          125,
          125,
          175,
          500,
          325,
          525,
          125,
          125,
          600,
          500,
          175,
          175,
          550,
          125,
          175,
          175,
          175,
          150,
          550,
          125,
          500,
          150,
          525,
          525,
          125,
          125,
          175,
          550,
          125,
          175,
          550,
          525,
          550,
          525,
          550,
          550,
          450,
          125,
          525,
          475,
          175,
          500,
          200,
          125,
          175,
          550,
          575,
          175,
          550,
          125,
          450,
          125,
          125,
          550,
          525,
          550,
          525,
          525,
          150,
          525,
          125,
          125,
          125,
          125,
          525,
          550,
          300,
          550,
          450,
          575,
          550,
          550,
          125,
          125,
          525,
          175,
          125,
          125,
          550,
          200,
          525,
          225,
          225,
          225,
          175,
          125,
          175,
          125,
          125,
          125,
          550,
          125,
          175,
          550,
          550,
          550,
          125,
          550,
          550,
          150,
          525,
          525,
          550,
          125,
          550,
          600,
          175,
          175,
          175
         ],
         "xaxis": "x2",
         "yaxis": "y2"
        }
       ],
       "layout": {
        "barmode": "relative",
        "legend": {
         "tracegroupgap": 0
        },
        "template": {
         "data": {
          "bar": [
           {
            "error_x": {
             "color": "#2a3f5f"
            },
            "error_y": {
             "color": "#2a3f5f"
            },
            "marker": {
             "line": {
              "color": "#E5ECF6",
              "width": 0.5
             }
            },
            "type": "bar"
           }
          ],
          "barpolar": [
           {
            "marker": {
             "line": {
              "color": "#E5ECF6",
              "width": 0.5
             }
            },
            "type": "barpolar"
           }
          ],
          "carpet": [
           {
            "aaxis": {
             "endlinecolor": "#2a3f5f",
             "gridcolor": "white",
             "linecolor": "white",
             "minorgridcolor": "white",
             "startlinecolor": "#2a3f5f"
            },
            "baxis": {
             "endlinecolor": "#2a3f5f",
             "gridcolor": "white",
             "linecolor": "white",
             "minorgridcolor": "white",
             "startlinecolor": "#2a3f5f"
            },
            "type": "carpet"
           }
          ],
          "choropleth": [
           {
            "colorbar": {
             "outlinewidth": 0,
             "ticks": ""
            },
            "type": "choropleth"
           }
          ],
          "contour": [
           {
            "colorbar": {
             "outlinewidth": 0,
             "ticks": ""
            },
            "colorscale": [
             [
              0,
              "#0d0887"
             ],
             [
              0.1111111111111111,
              "#46039f"
             ],
             [
              0.2222222222222222,
              "#7201a8"
             ],
             [
              0.3333333333333333,
              "#9c179e"
             ],
             [
              0.4444444444444444,
              "#bd3786"
             ],
             [
              0.5555555555555556,
              "#d8576b"
             ],
             [
              0.6666666666666666,
              "#ed7953"
             ],
             [
              0.7777777777777778,
              "#fb9f3a"
             ],
             [
              0.8888888888888888,
              "#fdca26"
             ],
             [
              1,
              "#f0f921"
             ]
            ],
            "type": "contour"
           }
          ],
          "contourcarpet": [
           {
            "colorbar": {
             "outlinewidth": 0,
             "ticks": ""
            },
            "type": "contourcarpet"
           }
          ],
          "heatmap": [
           {
            "colorbar": {
             "outlinewidth": 0,
             "ticks": ""
            },
            "colorscale": [
             [
              0,
              "#0d0887"
             ],
             [
              0.1111111111111111,
              "#46039f"
             ],
             [
              0.2222222222222222,
              "#7201a8"
             ],
             [
              0.3333333333333333,
              "#9c179e"
             ],
             [
              0.4444444444444444,
              "#bd3786"
             ],
             [
              0.5555555555555556,
              "#d8576b"
             ],
             [
              0.6666666666666666,
              "#ed7953"
             ],
             [
              0.7777777777777778,
              "#fb9f3a"
             ],
             [
              0.8888888888888888,
              "#fdca26"
             ],
             [
              1,
              "#f0f921"
             ]
            ],
            "type": "heatmap"
           }
          ],
          "heatmapgl": [
           {
            "colorbar": {
             "outlinewidth": 0,
             "ticks": ""
            },
            "colorscale": [
             [
              0,
              "#0d0887"
             ],
             [
              0.1111111111111111,
              "#46039f"
             ],
             [
              0.2222222222222222,
              "#7201a8"
             ],
             [
              0.3333333333333333,
              "#9c179e"
             ],
             [
              0.4444444444444444,
              "#bd3786"
             ],
             [
              0.5555555555555556,
              "#d8576b"
             ],
             [
              0.6666666666666666,
              "#ed7953"
             ],
             [
              0.7777777777777778,
              "#fb9f3a"
             ],
             [
              0.8888888888888888,
              "#fdca26"
             ],
             [
              1,
              "#f0f921"
             ]
            ],
            "type": "heatmapgl"
           }
          ],
          "histogram": [
           {
            "marker": {
             "colorbar": {
              "outlinewidth": 0,
              "ticks": ""
             }
            },
            "type": "histogram"
           }
          ],
          "histogram2d": [
           {
            "colorbar": {
             "outlinewidth": 0,
             "ticks": ""
            },
            "colorscale": [
             [
              0,
              "#0d0887"
             ],
             [
              0.1111111111111111,
              "#46039f"
             ],
             [
              0.2222222222222222,
              "#7201a8"
             ],
             [
              0.3333333333333333,
              "#9c179e"
             ],
             [
              0.4444444444444444,
              "#bd3786"
             ],
             [
              0.5555555555555556,
              "#d8576b"
             ],
             [
              0.6666666666666666,
              "#ed7953"
             ],
             [
              0.7777777777777778,
              "#fb9f3a"
             ],
             [
              0.8888888888888888,
              "#fdca26"
             ],
             [
              1,
              "#f0f921"
             ]
            ],
            "type": "histogram2d"
           }
          ],
          "histogram2dcontour": [
           {
            "colorbar": {
             "outlinewidth": 0,
             "ticks": ""
            },
            "colorscale": [
             [
              0,
              "#0d0887"
             ],
             [
              0.1111111111111111,
              "#46039f"
             ],
             [
              0.2222222222222222,
              "#7201a8"
             ],
             [
              0.3333333333333333,
              "#9c179e"
             ],
             [
              0.4444444444444444,
              "#bd3786"
             ],
             [
              0.5555555555555556,
              "#d8576b"
             ],
             [
              0.6666666666666666,
              "#ed7953"
             ],
             [
              0.7777777777777778,
              "#fb9f3a"
             ],
             [
              0.8888888888888888,
              "#fdca26"
             ],
             [
              1,
              "#f0f921"
             ]
            ],
            "type": "histogram2dcontour"
           }
          ],
          "mesh3d": [
           {
            "colorbar": {
             "outlinewidth": 0,
             "ticks": ""
            },
            "type": "mesh3d"
           }
          ],
          "parcoords": [
           {
            "line": {
             "colorbar": {
              "outlinewidth": 0,
              "ticks": ""
             }
            },
            "type": "parcoords"
           }
          ],
          "pie": [
           {
            "automargin": true,
            "type": "pie"
           }
          ],
          "scatter": [
           {
            "marker": {
             "colorbar": {
              "outlinewidth": 0,
              "ticks": ""
             }
            },
            "type": "scatter"
           }
          ],
          "scatter3d": [
           {
            "line": {
             "colorbar": {
              "outlinewidth": 0,
              "ticks": ""
             }
            },
            "marker": {
             "colorbar": {
              "outlinewidth": 0,
              "ticks": ""
             }
            },
            "type": "scatter3d"
           }
          ],
          "scattercarpet": [
           {
            "marker": {
             "colorbar": {
              "outlinewidth": 0,
              "ticks": ""
             }
            },
            "type": "scattercarpet"
           }
          ],
          "scattergeo": [
           {
            "marker": {
             "colorbar": {
              "outlinewidth": 0,
              "ticks": ""
             }
            },
            "type": "scattergeo"
           }
          ],
          "scattergl": [
           {
            "marker": {
             "colorbar": {
              "outlinewidth": 0,
              "ticks": ""
             }
            },
            "type": "scattergl"
           }
          ],
          "scattermapbox": [
           {
            "marker": {
             "colorbar": {
              "outlinewidth": 0,
              "ticks": ""
             }
            },
            "type": "scattermapbox"
           }
          ],
          "scatterpolar": [
           {
            "marker": {
             "colorbar": {
              "outlinewidth": 0,
              "ticks": ""
             }
            },
            "type": "scatterpolar"
           }
          ],
          "scatterpolargl": [
           {
            "marker": {
             "colorbar": {
              "outlinewidth": 0,
              "ticks": ""
             }
            },
            "type": "scatterpolargl"
           }
          ],
          "scatterternary": [
           {
            "marker": {
             "colorbar": {
              "outlinewidth": 0,
              "ticks": ""
             }
            },
            "type": "scatterternary"
           }
          ],
          "surface": [
           {
            "colorbar": {
             "outlinewidth": 0,
             "ticks": ""
            },
            "colorscale": [
             [
              0,
              "#0d0887"
             ],
             [
              0.1111111111111111,
              "#46039f"
             ],
             [
              0.2222222222222222,
              "#7201a8"
             ],
             [
              0.3333333333333333,
              "#9c179e"
             ],
             [
              0.4444444444444444,
              "#bd3786"
             ],
             [
              0.5555555555555556,
              "#d8576b"
             ],
             [
              0.6666666666666666,
              "#ed7953"
             ],
             [
              0.7777777777777778,
              "#fb9f3a"
             ],
             [
              0.8888888888888888,
              "#fdca26"
             ],
             [
              1,
              "#f0f921"
             ]
            ],
            "type": "surface"
           }
          ],
          "table": [
           {
            "cells": {
             "fill": {
              "color": "#EBF0F8"
             },
             "line": {
              "color": "white"
             }
            },
            "header": {
             "fill": {
              "color": "#C8D4E3"
             },
             "line": {
              "color": "white"
             }
            },
            "type": "table"
           }
          ]
         },
         "layout": {
          "annotationdefaults": {
           "arrowcolor": "#2a3f5f",
           "arrowhead": 0,
           "arrowwidth": 1
          },
          "autotypenumbers": "strict",
          "coloraxis": {
           "colorbar": {
            "outlinewidth": 0,
            "ticks": ""
           }
          },
          "colorscale": {
           "diverging": [
            [
             0,
             "#8e0152"
            ],
            [
             0.1,
             "#c51b7d"
            ],
            [
             0.2,
             "#de77ae"
            ],
            [
             0.3,
             "#f1b6da"
            ],
            [
             0.4,
             "#fde0ef"
            ],
            [
             0.5,
             "#f7f7f7"
            ],
            [
             0.6,
             "#e6f5d0"
            ],
            [
             0.7,
             "#b8e186"
            ],
            [
             0.8,
             "#7fbc41"
            ],
            [
             0.9,
             "#4d9221"
            ],
            [
             1,
             "#276419"
            ]
           ],
           "sequential": [
            [
             0,
             "#0d0887"
            ],
            [
             0.1111111111111111,
             "#46039f"
            ],
            [
             0.2222222222222222,
             "#7201a8"
            ],
            [
             0.3333333333333333,
             "#9c179e"
            ],
            [
             0.4444444444444444,
             "#bd3786"
            ],
            [
             0.5555555555555556,
             "#d8576b"
            ],
            [
             0.6666666666666666,
             "#ed7953"
            ],
            [
             0.7777777777777778,
             "#fb9f3a"
            ],
            [
             0.8888888888888888,
             "#fdca26"
            ],
            [
             1,
             "#f0f921"
            ]
           ],
           "sequentialminus": [
            [
             0,
             "#0d0887"
            ],
            [
             0.1111111111111111,
             "#46039f"
            ],
            [
             0.2222222222222222,
             "#7201a8"
            ],
            [
             0.3333333333333333,
             "#9c179e"
            ],
            [
             0.4444444444444444,
             "#bd3786"
            ],
            [
             0.5555555555555556,
             "#d8576b"
            ],
            [
             0.6666666666666666,
             "#ed7953"
            ],
            [
             0.7777777777777778,
             "#fb9f3a"
            ],
            [
             0.8888888888888888,
             "#fdca26"
            ],
            [
             1,
             "#f0f921"
            ]
           ]
          },
          "colorway": [
           "#636efa",
           "#EF553B",
           "#00cc96",
           "#ab63fa",
           "#FFA15A",
           "#19d3f3",
           "#FF6692",
           "#B6E880",
           "#FF97FF",
           "#FECB52"
          ],
          "font": {
           "color": "#2a3f5f"
          },
          "geo": {
           "bgcolor": "white",
           "lakecolor": "white",
           "landcolor": "#E5ECF6",
           "showlakes": true,
           "showland": true,
           "subunitcolor": "white"
          },
          "hoverlabel": {
           "align": "left"
          },
          "hovermode": "closest",
          "mapbox": {
           "style": "light"
          },
          "paper_bgcolor": "white",
          "plot_bgcolor": "#E5ECF6",
          "polar": {
           "angularaxis": {
            "gridcolor": "white",
            "linecolor": "white",
            "ticks": ""
           },
           "bgcolor": "#E5ECF6",
           "radialaxis": {
            "gridcolor": "white",
            "linecolor": "white",
            "ticks": ""
           }
          },
          "scene": {
           "xaxis": {
            "backgroundcolor": "#E5ECF6",
            "gridcolor": "white",
            "gridwidth": 2,
            "linecolor": "white",
            "showbackground": true,
            "ticks": "",
            "zerolinecolor": "white"
           },
           "yaxis": {
            "backgroundcolor": "#E5ECF6",
            "gridcolor": "white",
            "gridwidth": 2,
            "linecolor": "white",
            "showbackground": true,
            "ticks": "",
            "zerolinecolor": "white"
           },
           "zaxis": {
            "backgroundcolor": "#E5ECF6",
            "gridcolor": "white",
            "gridwidth": 2,
            "linecolor": "white",
            "showbackground": true,
            "ticks": "",
            "zerolinecolor": "white"
           }
          },
          "shapedefaults": {
           "line": {
            "color": "#2a3f5f"
           }
          },
          "ternary": {
           "aaxis": {
            "gridcolor": "white",
            "linecolor": "white",
            "ticks": ""
           },
           "baxis": {
            "gridcolor": "white",
            "linecolor": "white",
            "ticks": ""
           },
           "bgcolor": "#E5ECF6",
           "caxis": {
            "gridcolor": "white",
            "linecolor": "white",
            "ticks": ""
           }
          },
          "title": {
           "x": 0.05
          },
          "xaxis": {
           "automargin": true,
           "gridcolor": "white",
           "linecolor": "white",
           "ticks": "",
           "title": {
            "standoff": 15
           },
           "zerolinecolor": "white",
           "zerolinewidth": 2
          },
          "yaxis": {
           "automargin": true,
           "gridcolor": "white",
           "linecolor": "white",
           "ticks": "",
           "title": {
            "standoff": 15
           },
           "zerolinecolor": "white",
           "zerolinewidth": 2
          }
         }
        },
        "title": {
         "text": "Attack_range histogram"
        },
        "xaxis": {
         "anchor": "y",
         "domain": [
          0,
          1
         ],
         "title": {
          "text": "Attack_range"
         }
        },
        "xaxis2": {
         "anchor": "y2",
         "domain": [
          0,
          1
         ],
         "matches": "x",
         "showgrid": true,
         "showticklabels": false
        },
        "yaxis": {
         "anchor": "x",
         "domain": [
          0,
          0.8316
         ],
         "title": {
          "text": "count"
         }
        },
        "yaxis2": {
         "anchor": "x2",
         "domain": [
          0.8416,
          1
         ],
         "matches": "y2",
         "showgrid": false,
         "showline": false,
         "showticklabels": false,
         "ticks": ""
        }
       }
      }
     },
     "metadata": {}
    },
    {
     "output_type": "display_data",
     "data": {
      "application/vnd.plotly.v1+json": {
       "config": {
        "plotlyServerURL": "https://plot.ly"
       },
       "data": [
        {
         "alignmentgroup": "True",
         "bingroup": "x",
         "hovertemplate": "Base_AS=%{x}<br>count=%{y}<extra></extra>",
         "legendgroup": "",
         "marker": {
          "color": "#636efa"
         },
         "name": "",
         "offsetgroup": "",
         "orientation": "v",
         "showlegend": false,
         "type": "histogram",
         "x": [
          0.625,
          0.625,
          0.625,
          0.67,
          0.625,
          0.658,
          0.625,
          0.694,
          0.625,
          0.651,
          0.644,
          0.651,
          0.645,
          0.625,
          0.644,
          0.64,
          0.697,
          0.625,
          0.658,
          0.658,
          0.625,
          0.625,
          0.69,
          0.658,
          0.656,
          0.736,
          0.736,
          0.8,
          0.668,
          0.625,
          0.625,
          0.625,
          0.625,
          0.625,
          0.644,
          0.625,
          0.625,
          0.625,
          0.625,
          0.475,
          0.625,
          0.694,
          0.736,
          0.579,
          0.658,
          0.751,
          0.625,
          0.625,
          0.625,
          0.638,
          0.625,
          0.669,
          0.625,
          0.644,
          0.625,
          0.651,
          0.656,
          0.625,
          0.625,
          0.667,
          0.665,
          0.665,
          0.638,
          0.679,
          0.658,
          0.625,
          0.668,
          0.625,
          0.645,
          0.679,
          0.681,
          0.8,
          0.669,
          0.669,
          0.638,
          0.625,
          0.625,
          0.625,
          0.638,
          0.625,
          0.625,
          0.688,
          0.625,
          0.651,
          0.625,
          0.644,
          0.55,
          0.625,
          0.721,
          0.669,
          0.625,
          0.625,
          0.675,
          0.625,
          0.571,
          0.706,
          0.69,
          0.625,
          0.625,
          0.625,
          0.625,
          0.625,
          0.638,
          0.658,
          0.625,
          0.625,
          0.658,
          0.658,
          0.644,
          0.644,
          0.625,
          0.625,
          0.667,
          0.625,
          0.667,
          0.625,
          0.625,
          0.721,
          0.638,
          0.625,
          0.679,
          0.658,
          0.667,
          0.647,
          0.638,
          0.625,
          0.625,
          0.658,
          0.669,
          0.658,
          0.675,
          0.625,
          0.644,
          0.645,
          0.638,
          0.656,
          0.679,
          0.711,
          0.625,
          0.658,
          0.697,
          0.625,
          0.67,
          0.625,
          0.667,
          0.613,
          0.656,
          0.658,
          0.64,
          0.625,
          0.625,
          0.688,
          0.668,
          0.656,
          0.658,
          0.688,
          0.694,
          0.625,
          0.644,
          0.635,
          0.625,
          0.658,
          0.625,
          0.625,
          0.625,
          0.675,
          0.625,
          0.625,
          0.736,
          0.644,
          0.644,
          0.625,
          0.656,
          0.694,
          0.658,
          0.658,
          0.658,
          0.658,
          0.625,
          0.644,
          0.665,
          0.638,
          0.625,
          0.656,
          0.721,
          0.625,
          0.625,
          0.625,
          0.625,
          0.658,
          0.647,
          0.625,
          0.625,
          0.625,
          0.625,
          0.625,
          0.625,
          0.625,
          0.625,
          0.711,
          0.67,
          0.67
         ],
         "xaxis": "x",
         "yaxis": "y"
        },
        {
         "alignmentgroup": "True",
         "hovertemplate": "Base_AS=%{x}<extra></extra>",
         "legendgroup": "",
         "marker": {
          "color": "#636efa"
         },
         "name": "",
         "offsetgroup": "",
         "scalegroup": "x",
         "showlegend": false,
         "type": "violin",
         "x": [
          0.625,
          0.625,
          0.625,
          0.67,
          0.625,
          0.658,
          0.625,
          0.694,
          0.625,
          0.651,
          0.644,
          0.651,
          0.645,
          0.625,
          0.644,
          0.64,
          0.697,
          0.625,
          0.658,
          0.658,
          0.625,
          0.625,
          0.69,
          0.658,
          0.656,
          0.736,
          0.736,
          0.8,
          0.668,
          0.625,
          0.625,
          0.625,
          0.625,
          0.625,
          0.644,
          0.625,
          0.625,
          0.625,
          0.625,
          0.475,
          0.625,
          0.694,
          0.736,
          0.579,
          0.658,
          0.751,
          0.625,
          0.625,
          0.625,
          0.638,
          0.625,
          0.669,
          0.625,
          0.644,
          0.625,
          0.651,
          0.656,
          0.625,
          0.625,
          0.667,
          0.665,
          0.665,
          0.638,
          0.679,
          0.658,
          0.625,
          0.668,
          0.625,
          0.645,
          0.679,
          0.681,
          0.8,
          0.669,
          0.669,
          0.638,
          0.625,
          0.625,
          0.625,
          0.638,
          0.625,
          0.625,
          0.688,
          0.625,
          0.651,
          0.625,
          0.644,
          0.55,
          0.625,
          0.721,
          0.669,
          0.625,
          0.625,
          0.675,
          0.625,
          0.571,
          0.706,
          0.69,
          0.625,
          0.625,
          0.625,
          0.625,
          0.625,
          0.638,
          0.658,
          0.625,
          0.625,
          0.658,
          0.658,
          0.644,
          0.644,
          0.625,
          0.625,
          0.667,
          0.625,
          0.667,
          0.625,
          0.625,
          0.721,
          0.638,
          0.625,
          0.679,
          0.658,
          0.667,
          0.647,
          0.638,
          0.625,
          0.625,
          0.658,
          0.669,
          0.658,
          0.675,
          0.625,
          0.644,
          0.645,
          0.638,
          0.656,
          0.679,
          0.711,
          0.625,
          0.658,
          0.697,
          0.625,
          0.67,
          0.625,
          0.667,
          0.613,
          0.656,
          0.658,
          0.64,
          0.625,
          0.625,
          0.688,
          0.668,
          0.656,
          0.658,
          0.688,
          0.694,
          0.625,
          0.644,
          0.635,
          0.625,
          0.658,
          0.625,
          0.625,
          0.625,
          0.675,
          0.625,
          0.625,
          0.736,
          0.644,
          0.644,
          0.625,
          0.656,
          0.694,
          0.658,
          0.658,
          0.658,
          0.658,
          0.625,
          0.644,
          0.665,
          0.638,
          0.625,
          0.656,
          0.721,
          0.625,
          0.625,
          0.625,
          0.625,
          0.658,
          0.647,
          0.625,
          0.625,
          0.625,
          0.625,
          0.625,
          0.625,
          0.625,
          0.625,
          0.711,
          0.67,
          0.67
         ],
         "xaxis": "x2",
         "yaxis": "y2"
        }
       ],
       "layout": {
        "barmode": "relative",
        "legend": {
         "tracegroupgap": 0
        },
        "template": {
         "data": {
          "bar": [
           {
            "error_x": {
             "color": "#2a3f5f"
            },
            "error_y": {
             "color": "#2a3f5f"
            },
            "marker": {
             "line": {
              "color": "#E5ECF6",
              "width": 0.5
             }
            },
            "type": "bar"
           }
          ],
          "barpolar": [
           {
            "marker": {
             "line": {
              "color": "#E5ECF6",
              "width": 0.5
             }
            },
            "type": "barpolar"
           }
          ],
          "carpet": [
           {
            "aaxis": {
             "endlinecolor": "#2a3f5f",
             "gridcolor": "white",
             "linecolor": "white",
             "minorgridcolor": "white",
             "startlinecolor": "#2a3f5f"
            },
            "baxis": {
             "endlinecolor": "#2a3f5f",
             "gridcolor": "white",
             "linecolor": "white",
             "minorgridcolor": "white",
             "startlinecolor": "#2a3f5f"
            },
            "type": "carpet"
           }
          ],
          "choropleth": [
           {
            "colorbar": {
             "outlinewidth": 0,
             "ticks": ""
            },
            "type": "choropleth"
           }
          ],
          "contour": [
           {
            "colorbar": {
             "outlinewidth": 0,
             "ticks": ""
            },
            "colorscale": [
             [
              0,
              "#0d0887"
             ],
             [
              0.1111111111111111,
              "#46039f"
             ],
             [
              0.2222222222222222,
              "#7201a8"
             ],
             [
              0.3333333333333333,
              "#9c179e"
             ],
             [
              0.4444444444444444,
              "#bd3786"
             ],
             [
              0.5555555555555556,
              "#d8576b"
             ],
             [
              0.6666666666666666,
              "#ed7953"
             ],
             [
              0.7777777777777778,
              "#fb9f3a"
             ],
             [
              0.8888888888888888,
              "#fdca26"
             ],
             [
              1,
              "#f0f921"
             ]
            ],
            "type": "contour"
           }
          ],
          "contourcarpet": [
           {
            "colorbar": {
             "outlinewidth": 0,
             "ticks": ""
            },
            "type": "contourcarpet"
           }
          ],
          "heatmap": [
           {
            "colorbar": {
             "outlinewidth": 0,
             "ticks": ""
            },
            "colorscale": [
             [
              0,
              "#0d0887"
             ],
             [
              0.1111111111111111,
              "#46039f"
             ],
             [
              0.2222222222222222,
              "#7201a8"
             ],
             [
              0.3333333333333333,
              "#9c179e"
             ],
             [
              0.4444444444444444,
              "#bd3786"
             ],
             [
              0.5555555555555556,
              "#d8576b"
             ],
             [
              0.6666666666666666,
              "#ed7953"
             ],
             [
              0.7777777777777778,
              "#fb9f3a"
             ],
             [
              0.8888888888888888,
              "#fdca26"
             ],
             [
              1,
              "#f0f921"
             ]
            ],
            "type": "heatmap"
           }
          ],
          "heatmapgl": [
           {
            "colorbar": {
             "outlinewidth": 0,
             "ticks": ""
            },
            "colorscale": [
             [
              0,
              "#0d0887"
             ],
             [
              0.1111111111111111,
              "#46039f"
             ],
             [
              0.2222222222222222,
              "#7201a8"
             ],
             [
              0.3333333333333333,
              "#9c179e"
             ],
             [
              0.4444444444444444,
              "#bd3786"
             ],
             [
              0.5555555555555556,
              "#d8576b"
             ],
             [
              0.6666666666666666,
              "#ed7953"
             ],
             [
              0.7777777777777778,
              "#fb9f3a"
             ],
             [
              0.8888888888888888,
              "#fdca26"
             ],
             [
              1,
              "#f0f921"
             ]
            ],
            "type": "heatmapgl"
           }
          ],
          "histogram": [
           {
            "marker": {
             "colorbar": {
              "outlinewidth": 0,
              "ticks": ""
             }
            },
            "type": "histogram"
           }
          ],
          "histogram2d": [
           {
            "colorbar": {
             "outlinewidth": 0,
             "ticks": ""
            },
            "colorscale": [
             [
              0,
              "#0d0887"
             ],
             [
              0.1111111111111111,
              "#46039f"
             ],
             [
              0.2222222222222222,
              "#7201a8"
             ],
             [
              0.3333333333333333,
              "#9c179e"
             ],
             [
              0.4444444444444444,
              "#bd3786"
             ],
             [
              0.5555555555555556,
              "#d8576b"
             ],
             [
              0.6666666666666666,
              "#ed7953"
             ],
             [
              0.7777777777777778,
              "#fb9f3a"
             ],
             [
              0.8888888888888888,
              "#fdca26"
             ],
             [
              1,
              "#f0f921"
             ]
            ],
            "type": "histogram2d"
           }
          ],
          "histogram2dcontour": [
           {
            "colorbar": {
             "outlinewidth": 0,
             "ticks": ""
            },
            "colorscale": [
             [
              0,
              "#0d0887"
             ],
             [
              0.1111111111111111,
              "#46039f"
             ],
             [
              0.2222222222222222,
              "#7201a8"
             ],
             [
              0.3333333333333333,
              "#9c179e"
             ],
             [
              0.4444444444444444,
              "#bd3786"
             ],
             [
              0.5555555555555556,
              "#d8576b"
             ],
             [
              0.6666666666666666,
              "#ed7953"
             ],
             [
              0.7777777777777778,
              "#fb9f3a"
             ],
             [
              0.8888888888888888,
              "#fdca26"
             ],
             [
              1,
              "#f0f921"
             ]
            ],
            "type": "histogram2dcontour"
           }
          ],
          "mesh3d": [
           {
            "colorbar": {
             "outlinewidth": 0,
             "ticks": ""
            },
            "type": "mesh3d"
           }
          ],
          "parcoords": [
           {
            "line": {
             "colorbar": {
              "outlinewidth": 0,
              "ticks": ""
             }
            },
            "type": "parcoords"
           }
          ],
          "pie": [
           {
            "automargin": true,
            "type": "pie"
           }
          ],
          "scatter": [
           {
            "marker": {
             "colorbar": {
              "outlinewidth": 0,
              "ticks": ""
             }
            },
            "type": "scatter"
           }
          ],
          "scatter3d": [
           {
            "line": {
             "colorbar": {
              "outlinewidth": 0,
              "ticks": ""
             }
            },
            "marker": {
             "colorbar": {
              "outlinewidth": 0,
              "ticks": ""
             }
            },
            "type": "scatter3d"
           }
          ],
          "scattercarpet": [
           {
            "marker": {
             "colorbar": {
              "outlinewidth": 0,
              "ticks": ""
             }
            },
            "type": "scattercarpet"
           }
          ],
          "scattergeo": [
           {
            "marker": {
             "colorbar": {
              "outlinewidth": 0,
              "ticks": ""
             }
            },
            "type": "scattergeo"
           }
          ],
          "scattergl": [
           {
            "marker": {
             "colorbar": {
              "outlinewidth": 0,
              "ticks": ""
             }
            },
            "type": "scattergl"
           }
          ],
          "scattermapbox": [
           {
            "marker": {
             "colorbar": {
              "outlinewidth": 0,
              "ticks": ""
             }
            },
            "type": "scattermapbox"
           }
          ],
          "scatterpolar": [
           {
            "marker": {
             "colorbar": {
              "outlinewidth": 0,
              "ticks": ""
             }
            },
            "type": "scatterpolar"
           }
          ],
          "scatterpolargl": [
           {
            "marker": {
             "colorbar": {
              "outlinewidth": 0,
              "ticks": ""
             }
            },
            "type": "scatterpolargl"
           }
          ],
          "scatterternary": [
           {
            "marker": {
             "colorbar": {
              "outlinewidth": 0,
              "ticks": ""
             }
            },
            "type": "scatterternary"
           }
          ],
          "surface": [
           {
            "colorbar": {
             "outlinewidth": 0,
             "ticks": ""
            },
            "colorscale": [
             [
              0,
              "#0d0887"
             ],
             [
              0.1111111111111111,
              "#46039f"
             ],
             [
              0.2222222222222222,
              "#7201a8"
             ],
             [
              0.3333333333333333,
              "#9c179e"
             ],
             [
              0.4444444444444444,
              "#bd3786"
             ],
             [
              0.5555555555555556,
              "#d8576b"
             ],
             [
              0.6666666666666666,
              "#ed7953"
             ],
             [
              0.7777777777777778,
              "#fb9f3a"
             ],
             [
              0.8888888888888888,
              "#fdca26"
             ],
             [
              1,
              "#f0f921"
             ]
            ],
            "type": "surface"
           }
          ],
          "table": [
           {
            "cells": {
             "fill": {
              "color": "#EBF0F8"
             },
             "line": {
              "color": "white"
             }
            },
            "header": {
             "fill": {
              "color": "#C8D4E3"
             },
             "line": {
              "color": "white"
             }
            },
            "type": "table"
           }
          ]
         },
         "layout": {
          "annotationdefaults": {
           "arrowcolor": "#2a3f5f",
           "arrowhead": 0,
           "arrowwidth": 1
          },
          "autotypenumbers": "strict",
          "coloraxis": {
           "colorbar": {
            "outlinewidth": 0,
            "ticks": ""
           }
          },
          "colorscale": {
           "diverging": [
            [
             0,
             "#8e0152"
            ],
            [
             0.1,
             "#c51b7d"
            ],
            [
             0.2,
             "#de77ae"
            ],
            [
             0.3,
             "#f1b6da"
            ],
            [
             0.4,
             "#fde0ef"
            ],
            [
             0.5,
             "#f7f7f7"
            ],
            [
             0.6,
             "#e6f5d0"
            ],
            [
             0.7,
             "#b8e186"
            ],
            [
             0.8,
             "#7fbc41"
            ],
            [
             0.9,
             "#4d9221"
            ],
            [
             1,
             "#276419"
            ]
           ],
           "sequential": [
            [
             0,
             "#0d0887"
            ],
            [
             0.1111111111111111,
             "#46039f"
            ],
            [
             0.2222222222222222,
             "#7201a8"
            ],
            [
             0.3333333333333333,
             "#9c179e"
            ],
            [
             0.4444444444444444,
             "#bd3786"
            ],
            [
             0.5555555555555556,
             "#d8576b"
            ],
            [
             0.6666666666666666,
             "#ed7953"
            ],
            [
             0.7777777777777778,
             "#fb9f3a"
            ],
            [
             0.8888888888888888,
             "#fdca26"
            ],
            [
             1,
             "#f0f921"
            ]
           ],
           "sequentialminus": [
            [
             0,
             "#0d0887"
            ],
            [
             0.1111111111111111,
             "#46039f"
            ],
            [
             0.2222222222222222,
             "#7201a8"
            ],
            [
             0.3333333333333333,
             "#9c179e"
            ],
            [
             0.4444444444444444,
             "#bd3786"
            ],
            [
             0.5555555555555556,
             "#d8576b"
            ],
            [
             0.6666666666666666,
             "#ed7953"
            ],
            [
             0.7777777777777778,
             "#fb9f3a"
            ],
            [
             0.8888888888888888,
             "#fdca26"
            ],
            [
             1,
             "#f0f921"
            ]
           ]
          },
          "colorway": [
           "#636efa",
           "#EF553B",
           "#00cc96",
           "#ab63fa",
           "#FFA15A",
           "#19d3f3",
           "#FF6692",
           "#B6E880",
           "#FF97FF",
           "#FECB52"
          ],
          "font": {
           "color": "#2a3f5f"
          },
          "geo": {
           "bgcolor": "white",
           "lakecolor": "white",
           "landcolor": "#E5ECF6",
           "showlakes": true,
           "showland": true,
           "subunitcolor": "white"
          },
          "hoverlabel": {
           "align": "left"
          },
          "hovermode": "closest",
          "mapbox": {
           "style": "light"
          },
          "paper_bgcolor": "white",
          "plot_bgcolor": "#E5ECF6",
          "polar": {
           "angularaxis": {
            "gridcolor": "white",
            "linecolor": "white",
            "ticks": ""
           },
           "bgcolor": "#E5ECF6",
           "radialaxis": {
            "gridcolor": "white",
            "linecolor": "white",
            "ticks": ""
           }
          },
          "scene": {
           "xaxis": {
            "backgroundcolor": "#E5ECF6",
            "gridcolor": "white",
            "gridwidth": 2,
            "linecolor": "white",
            "showbackground": true,
            "ticks": "",
            "zerolinecolor": "white"
           },
           "yaxis": {
            "backgroundcolor": "#E5ECF6",
            "gridcolor": "white",
            "gridwidth": 2,
            "linecolor": "white",
            "showbackground": true,
            "ticks": "",
            "zerolinecolor": "white"
           },
           "zaxis": {
            "backgroundcolor": "#E5ECF6",
            "gridcolor": "white",
            "gridwidth": 2,
            "linecolor": "white",
            "showbackground": true,
            "ticks": "",
            "zerolinecolor": "white"
           }
          },
          "shapedefaults": {
           "line": {
            "color": "#2a3f5f"
           }
          },
          "ternary": {
           "aaxis": {
            "gridcolor": "white",
            "linecolor": "white",
            "ticks": ""
           },
           "baxis": {
            "gridcolor": "white",
            "linecolor": "white",
            "ticks": ""
           },
           "bgcolor": "#E5ECF6",
           "caxis": {
            "gridcolor": "white",
            "linecolor": "white",
            "ticks": ""
           }
          },
          "title": {
           "x": 0.05
          },
          "xaxis": {
           "automargin": true,
           "gridcolor": "white",
           "linecolor": "white",
           "ticks": "",
           "title": {
            "standoff": 15
           },
           "zerolinecolor": "white",
           "zerolinewidth": 2
          },
          "yaxis": {
           "automargin": true,
           "gridcolor": "white",
           "linecolor": "white",
           "ticks": "",
           "title": {
            "standoff": 15
           },
           "zerolinecolor": "white",
           "zerolinewidth": 2
          }
         }
        },
        "title": {
         "text": "Base_AS histogram"
        },
        "xaxis": {
         "anchor": "y",
         "domain": [
          0,
          1
         ],
         "title": {
          "text": "Base_AS"
         }
        },
        "xaxis2": {
         "anchor": "y2",
         "domain": [
          0,
          1
         ],
         "matches": "x",
         "showgrid": true,
         "showticklabels": false
        },
        "yaxis": {
         "anchor": "x",
         "domain": [
          0,
          0.8316
         ],
         "title": {
          "text": "count"
         }
        },
        "yaxis2": {
         "anchor": "x2",
         "domain": [
          0.8416,
          1
         ],
         "matches": "y2",
         "showgrid": false,
         "showline": false,
         "showticklabels": false,
         "ticks": ""
        }
       }
      }
     },
     "metadata": {}
    },
    {
     "output_type": "display_data",
     "data": {
      "application/vnd.plotly.v1+json": {
       "config": {
        "plotlyServerURL": "https://plot.ly"
       },
       "data": [
        {
         "alignmentgroup": "True",
         "bingroup": "x",
         "hovertemplate": "AS_ratio=%{x}<br>count=%{y}<extra></extra>",
         "legendgroup": "",
         "marker": {
          "color": "#636efa"
         },
         "name": "",
         "offsetgroup": "",
         "orientation": "v",
         "showlegend": false,
         "type": "histogram",
         "x": [
          1,
          1,
          1,
          1,
          1,
          1,
          1,
          1,
          1,
          1,
          1,
          1,
          1,
          1,
          1,
          1,
          0.67,
          1,
          1,
          1,
          1,
          1,
          1,
          1,
          0.679,
          0.638,
          0.638,
          0.695,
          1,
          1,
          1,
          1,
          1,
          0.7,
          1,
          1,
          1,
          1,
          1,
          0.49,
          1,
          1,
          0.638,
          1,
          1,
          0.651,
          1,
          1,
          1,
          1,
          1,
          1,
          1,
          1,
          1,
          1,
          0.625,
          1,
          1,
          1,
          1,
          1,
          1,
          1,
          1,
          1,
          1,
          1,
          1,
          1,
          0.568,
          0.695,
          0.625,
          0.625,
          1,
          1,
          1,
          1,
          1,
          1,
          0.7,
          0.625,
          1,
          1,
          1,
          1,
          1,
          1,
          0.625,
          0.625,
          0.3,
          0.3,
          0.625,
          1,
          1,
          0.612,
          1,
          1,
          1,
          1,
          1,
          1,
          1,
          1,
          1,
          1,
          1,
          1,
          1,
          1,
          1,
          1,
          1,
          1,
          1,
          1,
          1,
          0.668,
          1,
          0.667,
          1,
          1,
          1,
          1,
          1,
          0.67,
          1,
          1,
          0.625,
          1,
          0.625,
          1,
          1,
          1,
          1,
          1,
          1,
          0.658,
          1,
          1,
          0.67,
          1,
          1,
          1,
          1,
          1,
          1,
          1,
          1,
          1,
          1,
          0.625,
          1,
          0.625,
          0.69,
          0.625,
          1,
          1,
          1,
          1,
          0.69,
          1,
          1,
          1,
          1,
          0.625,
          1,
          1,
          0.638,
          1,
          1,
          1,
          1,
          1,
          1,
          1,
          1,
          1,
          1,
          1,
          1,
          1,
          1,
          1,
          0.668,
          1,
          1,
          1,
          1,
          1,
          1,
          0.67,
          1,
          1,
          1,
          1,
          1,
          1,
          1,
          0.658,
          1,
          1
         ],
         "xaxis": "x",
         "yaxis": "y"
        },
        {
         "alignmentgroup": "True",
         "hovertemplate": "AS_ratio=%{x}<extra></extra>",
         "legendgroup": "",
         "marker": {
          "color": "#636efa"
         },
         "name": "",
         "offsetgroup": "",
         "scalegroup": "x",
         "showlegend": false,
         "type": "violin",
         "x": [
          1,
          1,
          1,
          1,
          1,
          1,
          1,
          1,
          1,
          1,
          1,
          1,
          1,
          1,
          1,
          1,
          0.67,
          1,
          1,
          1,
          1,
          1,
          1,
          1,
          0.679,
          0.638,
          0.638,
          0.695,
          1,
          1,
          1,
          1,
          1,
          0.7,
          1,
          1,
          1,
          1,
          1,
          0.49,
          1,
          1,
          0.638,
          1,
          1,
          0.651,
          1,
          1,
          1,
          1,
          1,
          1,
          1,
          1,
          1,
          1,
          0.625,
          1,
          1,
          1,
          1,
          1,
          1,
          1,
          1,
          1,
          1,
          1,
          1,
          1,
          0.568,
          0.695,
          0.625,
          0.625,
          1,
          1,
          1,
          1,
          1,
          1,
          0.7,
          0.625,
          1,
          1,
          1,
          1,
          1,
          1,
          0.625,
          0.625,
          0.3,
          0.3,
          0.625,
          1,
          1,
          0.612,
          1,
          1,
          1,
          1,
          1,
          1,
          1,
          1,
          1,
          1,
          1,
          1,
          1,
          1,
          1,
          1,
          1,
          1,
          1,
          1,
          1,
          0.668,
          1,
          0.667,
          1,
          1,
          1,
          1,
          1,
          0.67,
          1,
          1,
          0.625,
          1,
          0.625,
          1,
          1,
          1,
          1,
          1,
          1,
          0.658,
          1,
          1,
          0.67,
          1,
          1,
          1,
          1,
          1,
          1,
          1,
          1,
          1,
          1,
          0.625,
          1,
          0.625,
          0.69,
          0.625,
          1,
          1,
          1,
          1,
          0.69,
          1,
          1,
          1,
          1,
          0.625,
          1,
          1,
          0.638,
          1,
          1,
          1,
          1,
          1,
          1,
          1,
          1,
          1,
          1,
          1,
          1,
          1,
          1,
          1,
          0.668,
          1,
          1,
          1,
          1,
          1,
          1,
          0.67,
          1,
          1,
          1,
          1,
          1,
          1,
          1,
          0.658,
          1,
          1
         ],
         "xaxis": "x2",
         "yaxis": "y2"
        }
       ],
       "layout": {
        "barmode": "relative",
        "legend": {
         "tracegroupgap": 0
        },
        "template": {
         "data": {
          "bar": [
           {
            "error_x": {
             "color": "#2a3f5f"
            },
            "error_y": {
             "color": "#2a3f5f"
            },
            "marker": {
             "line": {
              "color": "#E5ECF6",
              "width": 0.5
             }
            },
            "type": "bar"
           }
          ],
          "barpolar": [
           {
            "marker": {
             "line": {
              "color": "#E5ECF6",
              "width": 0.5
             }
            },
            "type": "barpolar"
           }
          ],
          "carpet": [
           {
            "aaxis": {
             "endlinecolor": "#2a3f5f",
             "gridcolor": "white",
             "linecolor": "white",
             "minorgridcolor": "white",
             "startlinecolor": "#2a3f5f"
            },
            "baxis": {
             "endlinecolor": "#2a3f5f",
             "gridcolor": "white",
             "linecolor": "white",
             "minorgridcolor": "white",
             "startlinecolor": "#2a3f5f"
            },
            "type": "carpet"
           }
          ],
          "choropleth": [
           {
            "colorbar": {
             "outlinewidth": 0,
             "ticks": ""
            },
            "type": "choropleth"
           }
          ],
          "contour": [
           {
            "colorbar": {
             "outlinewidth": 0,
             "ticks": ""
            },
            "colorscale": [
             [
              0,
              "#0d0887"
             ],
             [
              0.1111111111111111,
              "#46039f"
             ],
             [
              0.2222222222222222,
              "#7201a8"
             ],
             [
              0.3333333333333333,
              "#9c179e"
             ],
             [
              0.4444444444444444,
              "#bd3786"
             ],
             [
              0.5555555555555556,
              "#d8576b"
             ],
             [
              0.6666666666666666,
              "#ed7953"
             ],
             [
              0.7777777777777778,
              "#fb9f3a"
             ],
             [
              0.8888888888888888,
              "#fdca26"
             ],
             [
              1,
              "#f0f921"
             ]
            ],
            "type": "contour"
           }
          ],
          "contourcarpet": [
           {
            "colorbar": {
             "outlinewidth": 0,
             "ticks": ""
            },
            "type": "contourcarpet"
           }
          ],
          "heatmap": [
           {
            "colorbar": {
             "outlinewidth": 0,
             "ticks": ""
            },
            "colorscale": [
             [
              0,
              "#0d0887"
             ],
             [
              0.1111111111111111,
              "#46039f"
             ],
             [
              0.2222222222222222,
              "#7201a8"
             ],
             [
              0.3333333333333333,
              "#9c179e"
             ],
             [
              0.4444444444444444,
              "#bd3786"
             ],
             [
              0.5555555555555556,
              "#d8576b"
             ],
             [
              0.6666666666666666,
              "#ed7953"
             ],
             [
              0.7777777777777778,
              "#fb9f3a"
             ],
             [
              0.8888888888888888,
              "#fdca26"
             ],
             [
              1,
              "#f0f921"
             ]
            ],
            "type": "heatmap"
           }
          ],
          "heatmapgl": [
           {
            "colorbar": {
             "outlinewidth": 0,
             "ticks": ""
            },
            "colorscale": [
             [
              0,
              "#0d0887"
             ],
             [
              0.1111111111111111,
              "#46039f"
             ],
             [
              0.2222222222222222,
              "#7201a8"
             ],
             [
              0.3333333333333333,
              "#9c179e"
             ],
             [
              0.4444444444444444,
              "#bd3786"
             ],
             [
              0.5555555555555556,
              "#d8576b"
             ],
             [
              0.6666666666666666,
              "#ed7953"
             ],
             [
              0.7777777777777778,
              "#fb9f3a"
             ],
             [
              0.8888888888888888,
              "#fdca26"
             ],
             [
              1,
              "#f0f921"
             ]
            ],
            "type": "heatmapgl"
           }
          ],
          "histogram": [
           {
            "marker": {
             "colorbar": {
              "outlinewidth": 0,
              "ticks": ""
             }
            },
            "type": "histogram"
           }
          ],
          "histogram2d": [
           {
            "colorbar": {
             "outlinewidth": 0,
             "ticks": ""
            },
            "colorscale": [
             [
              0,
              "#0d0887"
             ],
             [
              0.1111111111111111,
              "#46039f"
             ],
             [
              0.2222222222222222,
              "#7201a8"
             ],
             [
              0.3333333333333333,
              "#9c179e"
             ],
             [
              0.4444444444444444,
              "#bd3786"
             ],
             [
              0.5555555555555556,
              "#d8576b"
             ],
             [
              0.6666666666666666,
              "#ed7953"
             ],
             [
              0.7777777777777778,
              "#fb9f3a"
             ],
             [
              0.8888888888888888,
              "#fdca26"
             ],
             [
              1,
              "#f0f921"
             ]
            ],
            "type": "histogram2d"
           }
          ],
          "histogram2dcontour": [
           {
            "colorbar": {
             "outlinewidth": 0,
             "ticks": ""
            },
            "colorscale": [
             [
              0,
              "#0d0887"
             ],
             [
              0.1111111111111111,
              "#46039f"
             ],
             [
              0.2222222222222222,
              "#7201a8"
             ],
             [
              0.3333333333333333,
              "#9c179e"
             ],
             [
              0.4444444444444444,
              "#bd3786"
             ],
             [
              0.5555555555555556,
              "#d8576b"
             ],
             [
              0.6666666666666666,
              "#ed7953"
             ],
             [
              0.7777777777777778,
              "#fb9f3a"
             ],
             [
              0.8888888888888888,
              "#fdca26"
             ],
             [
              1,
              "#f0f921"
             ]
            ],
            "type": "histogram2dcontour"
           }
          ],
          "mesh3d": [
           {
            "colorbar": {
             "outlinewidth": 0,
             "ticks": ""
            },
            "type": "mesh3d"
           }
          ],
          "parcoords": [
           {
            "line": {
             "colorbar": {
              "outlinewidth": 0,
              "ticks": ""
             }
            },
            "type": "parcoords"
           }
          ],
          "pie": [
           {
            "automargin": true,
            "type": "pie"
           }
          ],
          "scatter": [
           {
            "marker": {
             "colorbar": {
              "outlinewidth": 0,
              "ticks": ""
             }
            },
            "type": "scatter"
           }
          ],
          "scatter3d": [
           {
            "line": {
             "colorbar": {
              "outlinewidth": 0,
              "ticks": ""
             }
            },
            "marker": {
             "colorbar": {
              "outlinewidth": 0,
              "ticks": ""
             }
            },
            "type": "scatter3d"
           }
          ],
          "scattercarpet": [
           {
            "marker": {
             "colorbar": {
              "outlinewidth": 0,
              "ticks": ""
             }
            },
            "type": "scattercarpet"
           }
          ],
          "scattergeo": [
           {
            "marker": {
             "colorbar": {
              "outlinewidth": 0,
              "ticks": ""
             }
            },
            "type": "scattergeo"
           }
          ],
          "scattergl": [
           {
            "marker": {
             "colorbar": {
              "outlinewidth": 0,
              "ticks": ""
             }
            },
            "type": "scattergl"
           }
          ],
          "scattermapbox": [
           {
            "marker": {
             "colorbar": {
              "outlinewidth": 0,
              "ticks": ""
             }
            },
            "type": "scattermapbox"
           }
          ],
          "scatterpolar": [
           {
            "marker": {
             "colorbar": {
              "outlinewidth": 0,
              "ticks": ""
             }
            },
            "type": "scatterpolar"
           }
          ],
          "scatterpolargl": [
           {
            "marker": {
             "colorbar": {
              "outlinewidth": 0,
              "ticks": ""
             }
            },
            "type": "scatterpolargl"
           }
          ],
          "scatterternary": [
           {
            "marker": {
             "colorbar": {
              "outlinewidth": 0,
              "ticks": ""
             }
            },
            "type": "scatterternary"
           }
          ],
          "surface": [
           {
            "colorbar": {
             "outlinewidth": 0,
             "ticks": ""
            },
            "colorscale": [
             [
              0,
              "#0d0887"
             ],
             [
              0.1111111111111111,
              "#46039f"
             ],
             [
              0.2222222222222222,
              "#7201a8"
             ],
             [
              0.3333333333333333,
              "#9c179e"
             ],
             [
              0.4444444444444444,
              "#bd3786"
             ],
             [
              0.5555555555555556,
              "#d8576b"
             ],
             [
              0.6666666666666666,
              "#ed7953"
             ],
             [
              0.7777777777777778,
              "#fb9f3a"
             ],
             [
              0.8888888888888888,
              "#fdca26"
             ],
             [
              1,
              "#f0f921"
             ]
            ],
            "type": "surface"
           }
          ],
          "table": [
           {
            "cells": {
             "fill": {
              "color": "#EBF0F8"
             },
             "line": {
              "color": "white"
             }
            },
            "header": {
             "fill": {
              "color": "#C8D4E3"
             },
             "line": {
              "color": "white"
             }
            },
            "type": "table"
           }
          ]
         },
         "layout": {
          "annotationdefaults": {
           "arrowcolor": "#2a3f5f",
           "arrowhead": 0,
           "arrowwidth": 1
          },
          "autotypenumbers": "strict",
          "coloraxis": {
           "colorbar": {
            "outlinewidth": 0,
            "ticks": ""
           }
          },
          "colorscale": {
           "diverging": [
            [
             0,
             "#8e0152"
            ],
            [
             0.1,
             "#c51b7d"
            ],
            [
             0.2,
             "#de77ae"
            ],
            [
             0.3,
             "#f1b6da"
            ],
            [
             0.4,
             "#fde0ef"
            ],
            [
             0.5,
             "#f7f7f7"
            ],
            [
             0.6,
             "#e6f5d0"
            ],
            [
             0.7,
             "#b8e186"
            ],
            [
             0.8,
             "#7fbc41"
            ],
            [
             0.9,
             "#4d9221"
            ],
            [
             1,
             "#276419"
            ]
           ],
           "sequential": [
            [
             0,
             "#0d0887"
            ],
            [
             0.1111111111111111,
             "#46039f"
            ],
            [
             0.2222222222222222,
             "#7201a8"
            ],
            [
             0.3333333333333333,
             "#9c179e"
            ],
            [
             0.4444444444444444,
             "#bd3786"
            ],
            [
             0.5555555555555556,
             "#d8576b"
            ],
            [
             0.6666666666666666,
             "#ed7953"
            ],
            [
             0.7777777777777778,
             "#fb9f3a"
            ],
            [
             0.8888888888888888,
             "#fdca26"
            ],
            [
             1,
             "#f0f921"
            ]
           ],
           "sequentialminus": [
            [
             0,
             "#0d0887"
            ],
            [
             0.1111111111111111,
             "#46039f"
            ],
            [
             0.2222222222222222,
             "#7201a8"
            ],
            [
             0.3333333333333333,
             "#9c179e"
            ],
            [
             0.4444444444444444,
             "#bd3786"
            ],
            [
             0.5555555555555556,
             "#d8576b"
            ],
            [
             0.6666666666666666,
             "#ed7953"
            ],
            [
             0.7777777777777778,
             "#fb9f3a"
            ],
            [
             0.8888888888888888,
             "#fdca26"
            ],
            [
             1,
             "#f0f921"
            ]
           ]
          },
          "colorway": [
           "#636efa",
           "#EF553B",
           "#00cc96",
           "#ab63fa",
           "#FFA15A",
           "#19d3f3",
           "#FF6692",
           "#B6E880",
           "#FF97FF",
           "#FECB52"
          ],
          "font": {
           "color": "#2a3f5f"
          },
          "geo": {
           "bgcolor": "white",
           "lakecolor": "white",
           "landcolor": "#E5ECF6",
           "showlakes": true,
           "showland": true,
           "subunitcolor": "white"
          },
          "hoverlabel": {
           "align": "left"
          },
          "hovermode": "closest",
          "mapbox": {
           "style": "light"
          },
          "paper_bgcolor": "white",
          "plot_bgcolor": "#E5ECF6",
          "polar": {
           "angularaxis": {
            "gridcolor": "white",
            "linecolor": "white",
            "ticks": ""
           },
           "bgcolor": "#E5ECF6",
           "radialaxis": {
            "gridcolor": "white",
            "linecolor": "white",
            "ticks": ""
           }
          },
          "scene": {
           "xaxis": {
            "backgroundcolor": "#E5ECF6",
            "gridcolor": "white",
            "gridwidth": 2,
            "linecolor": "white",
            "showbackground": true,
            "ticks": "",
            "zerolinecolor": "white"
           },
           "yaxis": {
            "backgroundcolor": "#E5ECF6",
            "gridcolor": "white",
            "gridwidth": 2,
            "linecolor": "white",
            "showbackground": true,
            "ticks": "",
            "zerolinecolor": "white"
           },
           "zaxis": {
            "backgroundcolor": "#E5ECF6",
            "gridcolor": "white",
            "gridwidth": 2,
            "linecolor": "white",
            "showbackground": true,
            "ticks": "",
            "zerolinecolor": "white"
           }
          },
          "shapedefaults": {
           "line": {
            "color": "#2a3f5f"
           }
          },
          "ternary": {
           "aaxis": {
            "gridcolor": "white",
            "linecolor": "white",
            "ticks": ""
           },
           "baxis": {
            "gridcolor": "white",
            "linecolor": "white",
            "ticks": ""
           },
           "bgcolor": "#E5ECF6",
           "caxis": {
            "gridcolor": "white",
            "linecolor": "white",
            "ticks": ""
           }
          },
          "title": {
           "x": 0.05
          },
          "xaxis": {
           "automargin": true,
           "gridcolor": "white",
           "linecolor": "white",
           "ticks": "",
           "title": {
            "standoff": 15
           },
           "zerolinecolor": "white",
           "zerolinewidth": 2
          },
          "yaxis": {
           "automargin": true,
           "gridcolor": "white",
           "linecolor": "white",
           "ticks": "",
           "title": {
            "standoff": 15
           },
           "zerolinecolor": "white",
           "zerolinewidth": 2
          }
         }
        },
        "title": {
         "text": "AS_ratio histogram"
        },
        "xaxis": {
         "anchor": "y",
         "domain": [
          0,
          1
         ],
         "title": {
          "text": "AS_ratio"
         }
        },
        "xaxis2": {
         "anchor": "y2",
         "domain": [
          0,
          1
         ],
         "matches": "x",
         "showgrid": true,
         "showticklabels": false
        },
        "yaxis": {
         "anchor": "x",
         "domain": [
          0,
          0.8316
         ],
         "title": {
          "text": "count"
         }
        },
        "yaxis2": {
         "anchor": "x2",
         "domain": [
          0.8416,
          1
         ],
         "matches": "y2",
         "showgrid": false,
         "showline": false,
         "showticklabels": false,
         "ticks": ""
        }
       }
      }
     },
     "metadata": {}
    }
   ],
   "source": [
    "import plotly.express as px\n",
    "col_lst = [\"Win_rate_of_champion\", \"Pick_rate_of_champion\", \"Move_speed\",\"Attack_range\", \"Base_AS\", \"AS_ratio\"]\n",
    "figs = []\n",
    "for col in col_lst:\n",
    "    figs.append(px.histogram(champ_data_df, col, marginal=\"violin\", title=col + ' histogram'))\n",
    "for fig in figs:\n",
    "    fig.show()\n",
    "    "
   ]
  },
  {
   "cell_type": "code",
   "execution_count": 37,
   "metadata": {},
   "outputs": [
    {
     "output_type": "display_data",
     "data": {
      "application/vnd.plotly.v1+json": {
       "config": {
        "plotlyServerURL": "https://plot.ly"
       },
       "data": [
        {
         "coloraxis": "coloraxis",
         "hovertemplate": "x: %{x}<br>y: %{y}<br>color: %{z}<extra></extra>",
         "name": "0",
         "type": "heatmap",
         "x": [
          "Role_of_champion_role_jungle",
          "Role_of_champion_role_mid",
          "Role_of_champion_role_support",
          "Role_of_champion_role_top",
          "Win_rate_of_champion",
          "Pick_rate_of_champion",
          "Move_speed",
          "Attack_range",
          "Base_AS",
          "AS_ratio"
         ],
         "xaxis": "x",
         "y": [
          "Role_of_champion_role_jungle",
          "Role_of_champion_role_mid",
          "Role_of_champion_role_support",
          "Role_of_champion_role_top",
          "Win_rate_of_champion",
          "Pick_rate_of_champion",
          "Move_speed",
          "Attack_range",
          "Base_AS",
          "AS_ratio"
         ],
         "yaxis": "y",
         "z": [
          [
           1,
           -0.2932753790303144,
           -0.2429119412052941,
           -0.2932753790303145,
           0.0012011062129721483,
           0.020298267356800466,
           0.260488748705151,
           -0.26171396906685396,
           0.12685064427678847,
           -0.09143897523017186
          ],
          [
           -0.2932753790303144,
           1,
           -0.27974767688057317,
           -0.337748344370861,
           0.043163337875674855,
           -0.132222768004641,
           -0.02791882010539736,
           0.12291997011025216,
           -0.08175579235426339,
           0.08964760907632398
          ],
          [
           -0.2429119412052941,
           -0.27974767688057317,
           1,
           -0.27974767688057334,
           -0.019073312874107084,
           0.030464788031285966,
           -0.21024450676908998,
           0.1461440333662905,
           -0.12853927577236945,
           -0.009179129465533394
          ],
          [
           -0.2932753790303145,
           -0.337748344370861,
           -0.27974767688057334,
           1,
           -0.01857048230969277,
           -0.1340975348052603,
           0.24906025193615836,
           -0.2941825663549923,
           0.05576692093363617,
           0.026884334086384496
          ],
          [
           0.0012011062129721483,
           0.043163337875674855,
           -0.019073312874107084,
           -0.01857048230969277,
           1,
           -0.004575649789236044,
           -0.06535375685870301,
           -0.028889885237508833,
           -0.046777704690737686,
           0.06030317598588913
          ],
          [
           0.020298267356800466,
           -0.132222768004641,
           0.030464788031285966,
           -0.1340975348052603,
           -0.004575649789236044,
           1,
           -0.10649920322311401,
           0.06198593484400927,
           -0.05087108769376168,
           0.0058340772883614675
          ],
          [
           0.260488748705151,
           -0.02791882010539736,
           -0.21024450676908998,
           0.24906025193615836,
           -0.06535375685870301,
           -0.10649920322311401,
           1,
           -0.6252605037791055,
           0.09567901130241978,
           0.08835261270488531
          ],
          [
           -0.26171396906685396,
           0.12291997011025216,
           0.1461440333662905,
           -0.2941825663549923,
           -0.028889885237508833,
           0.06198593484400927,
           -0.6252605037791055,
           1,
           -0.2721453267940913,
           0.043138434567795654
          ],
          [
           0.12685064427678847,
           -0.08175579235426339,
           -0.12853927577236945,
           0.05576692093363617,
           -0.046777704690737686,
           -0.05087108769376168,
           0.09567901130241978,
           -0.2721453267940913,
           1,
           -0.3676733753901735
          ],
          [
           -0.09143897523017186,
           0.08964760907632398,
           -0.009179129465533394,
           0.026884334086384496,
           0.06030317598588913,
           0.0058340772883614675,
           0.08835261270488531,
           0.043138434567795654,
           -0.3676733753901735,
           1
          ]
         ]
        }
       ],
       "layout": {
        "coloraxis": {
         "colorscale": [
          [
           0,
           "#0d0887"
          ],
          [
           0.1111111111111111,
           "#46039f"
          ],
          [
           0.2222222222222222,
           "#7201a8"
          ],
          [
           0.3333333333333333,
           "#9c179e"
          ],
          [
           0.4444444444444444,
           "#bd3786"
          ],
          [
           0.5555555555555556,
           "#d8576b"
          ],
          [
           0.6666666666666666,
           "#ed7953"
          ],
          [
           0.7777777777777778,
           "#fb9f3a"
          ],
          [
           0.8888888888888888,
           "#fdca26"
          ],
          [
           1,
           "#f0f921"
          ]
         ]
        },
        "height": 800,
        "template": {
         "data": {
          "bar": [
           {
            "error_x": {
             "color": "#2a3f5f"
            },
            "error_y": {
             "color": "#2a3f5f"
            },
            "marker": {
             "line": {
              "color": "#E5ECF6",
              "width": 0.5
             }
            },
            "type": "bar"
           }
          ],
          "barpolar": [
           {
            "marker": {
             "line": {
              "color": "#E5ECF6",
              "width": 0.5
             }
            },
            "type": "barpolar"
           }
          ],
          "carpet": [
           {
            "aaxis": {
             "endlinecolor": "#2a3f5f",
             "gridcolor": "white",
             "linecolor": "white",
             "minorgridcolor": "white",
             "startlinecolor": "#2a3f5f"
            },
            "baxis": {
             "endlinecolor": "#2a3f5f",
             "gridcolor": "white",
             "linecolor": "white",
             "minorgridcolor": "white",
             "startlinecolor": "#2a3f5f"
            },
            "type": "carpet"
           }
          ],
          "choropleth": [
           {
            "colorbar": {
             "outlinewidth": 0,
             "ticks": ""
            },
            "type": "choropleth"
           }
          ],
          "contour": [
           {
            "colorbar": {
             "outlinewidth": 0,
             "ticks": ""
            },
            "colorscale": [
             [
              0,
              "#0d0887"
             ],
             [
              0.1111111111111111,
              "#46039f"
             ],
             [
              0.2222222222222222,
              "#7201a8"
             ],
             [
              0.3333333333333333,
              "#9c179e"
             ],
             [
              0.4444444444444444,
              "#bd3786"
             ],
             [
              0.5555555555555556,
              "#d8576b"
             ],
             [
              0.6666666666666666,
              "#ed7953"
             ],
             [
              0.7777777777777778,
              "#fb9f3a"
             ],
             [
              0.8888888888888888,
              "#fdca26"
             ],
             [
              1,
              "#f0f921"
             ]
            ],
            "type": "contour"
           }
          ],
          "contourcarpet": [
           {
            "colorbar": {
             "outlinewidth": 0,
             "ticks": ""
            },
            "type": "contourcarpet"
           }
          ],
          "heatmap": [
           {
            "colorbar": {
             "outlinewidth": 0,
             "ticks": ""
            },
            "colorscale": [
             [
              0,
              "#0d0887"
             ],
             [
              0.1111111111111111,
              "#46039f"
             ],
             [
              0.2222222222222222,
              "#7201a8"
             ],
             [
              0.3333333333333333,
              "#9c179e"
             ],
             [
              0.4444444444444444,
              "#bd3786"
             ],
             [
              0.5555555555555556,
              "#d8576b"
             ],
             [
              0.6666666666666666,
              "#ed7953"
             ],
             [
              0.7777777777777778,
              "#fb9f3a"
             ],
             [
              0.8888888888888888,
              "#fdca26"
             ],
             [
              1,
              "#f0f921"
             ]
            ],
            "type": "heatmap"
           }
          ],
          "heatmapgl": [
           {
            "colorbar": {
             "outlinewidth": 0,
             "ticks": ""
            },
            "colorscale": [
             [
              0,
              "#0d0887"
             ],
             [
              0.1111111111111111,
              "#46039f"
             ],
             [
              0.2222222222222222,
              "#7201a8"
             ],
             [
              0.3333333333333333,
              "#9c179e"
             ],
             [
              0.4444444444444444,
              "#bd3786"
             ],
             [
              0.5555555555555556,
              "#d8576b"
             ],
             [
              0.6666666666666666,
              "#ed7953"
             ],
             [
              0.7777777777777778,
              "#fb9f3a"
             ],
             [
              0.8888888888888888,
              "#fdca26"
             ],
             [
              1,
              "#f0f921"
             ]
            ],
            "type": "heatmapgl"
           }
          ],
          "histogram": [
           {
            "marker": {
             "colorbar": {
              "outlinewidth": 0,
              "ticks": ""
             }
            },
            "type": "histogram"
           }
          ],
          "histogram2d": [
           {
            "colorbar": {
             "outlinewidth": 0,
             "ticks": ""
            },
            "colorscale": [
             [
              0,
              "#0d0887"
             ],
             [
              0.1111111111111111,
              "#46039f"
             ],
             [
              0.2222222222222222,
              "#7201a8"
             ],
             [
              0.3333333333333333,
              "#9c179e"
             ],
             [
              0.4444444444444444,
              "#bd3786"
             ],
             [
              0.5555555555555556,
              "#d8576b"
             ],
             [
              0.6666666666666666,
              "#ed7953"
             ],
             [
              0.7777777777777778,
              "#fb9f3a"
             ],
             [
              0.8888888888888888,
              "#fdca26"
             ],
             [
              1,
              "#f0f921"
             ]
            ],
            "type": "histogram2d"
           }
          ],
          "histogram2dcontour": [
           {
            "colorbar": {
             "outlinewidth": 0,
             "ticks": ""
            },
            "colorscale": [
             [
              0,
              "#0d0887"
             ],
             [
              0.1111111111111111,
              "#46039f"
             ],
             [
              0.2222222222222222,
              "#7201a8"
             ],
             [
              0.3333333333333333,
              "#9c179e"
             ],
             [
              0.4444444444444444,
              "#bd3786"
             ],
             [
              0.5555555555555556,
              "#d8576b"
             ],
             [
              0.6666666666666666,
              "#ed7953"
             ],
             [
              0.7777777777777778,
              "#fb9f3a"
             ],
             [
              0.8888888888888888,
              "#fdca26"
             ],
             [
              1,
              "#f0f921"
             ]
            ],
            "type": "histogram2dcontour"
           }
          ],
          "mesh3d": [
           {
            "colorbar": {
             "outlinewidth": 0,
             "ticks": ""
            },
            "type": "mesh3d"
           }
          ],
          "parcoords": [
           {
            "line": {
             "colorbar": {
              "outlinewidth": 0,
              "ticks": ""
             }
            },
            "type": "parcoords"
           }
          ],
          "pie": [
           {
            "automargin": true,
            "type": "pie"
           }
          ],
          "scatter": [
           {
            "marker": {
             "colorbar": {
              "outlinewidth": 0,
              "ticks": ""
             }
            },
            "type": "scatter"
           }
          ],
          "scatter3d": [
           {
            "line": {
             "colorbar": {
              "outlinewidth": 0,
              "ticks": ""
             }
            },
            "marker": {
             "colorbar": {
              "outlinewidth": 0,
              "ticks": ""
             }
            },
            "type": "scatter3d"
           }
          ],
          "scattercarpet": [
           {
            "marker": {
             "colorbar": {
              "outlinewidth": 0,
              "ticks": ""
             }
            },
            "type": "scattercarpet"
           }
          ],
          "scattergeo": [
           {
            "marker": {
             "colorbar": {
              "outlinewidth": 0,
              "ticks": ""
             }
            },
            "type": "scattergeo"
           }
          ],
          "scattergl": [
           {
            "marker": {
             "colorbar": {
              "outlinewidth": 0,
              "ticks": ""
             }
            },
            "type": "scattergl"
           }
          ],
          "scattermapbox": [
           {
            "marker": {
             "colorbar": {
              "outlinewidth": 0,
              "ticks": ""
             }
            },
            "type": "scattermapbox"
           }
          ],
          "scatterpolar": [
           {
            "marker": {
             "colorbar": {
              "outlinewidth": 0,
              "ticks": ""
             }
            },
            "type": "scatterpolar"
           }
          ],
          "scatterpolargl": [
           {
            "marker": {
             "colorbar": {
              "outlinewidth": 0,
              "ticks": ""
             }
            },
            "type": "scatterpolargl"
           }
          ],
          "scatterternary": [
           {
            "marker": {
             "colorbar": {
              "outlinewidth": 0,
              "ticks": ""
             }
            },
            "type": "scatterternary"
           }
          ],
          "surface": [
           {
            "colorbar": {
             "outlinewidth": 0,
             "ticks": ""
            },
            "colorscale": [
             [
              0,
              "#0d0887"
             ],
             [
              0.1111111111111111,
              "#46039f"
             ],
             [
              0.2222222222222222,
              "#7201a8"
             ],
             [
              0.3333333333333333,
              "#9c179e"
             ],
             [
              0.4444444444444444,
              "#bd3786"
             ],
             [
              0.5555555555555556,
              "#d8576b"
             ],
             [
              0.6666666666666666,
              "#ed7953"
             ],
             [
              0.7777777777777778,
              "#fb9f3a"
             ],
             [
              0.8888888888888888,
              "#fdca26"
             ],
             [
              1,
              "#f0f921"
             ]
            ],
            "type": "surface"
           }
          ],
          "table": [
           {
            "cells": {
             "fill": {
              "color": "#EBF0F8"
             },
             "line": {
              "color": "white"
             }
            },
            "header": {
             "fill": {
              "color": "#C8D4E3"
             },
             "line": {
              "color": "white"
             }
            },
            "type": "table"
           }
          ]
         },
         "layout": {
          "annotationdefaults": {
           "arrowcolor": "#2a3f5f",
           "arrowhead": 0,
           "arrowwidth": 1
          },
          "autotypenumbers": "strict",
          "coloraxis": {
           "colorbar": {
            "outlinewidth": 0,
            "ticks": ""
           }
          },
          "colorscale": {
           "diverging": [
            [
             0,
             "#8e0152"
            ],
            [
             0.1,
             "#c51b7d"
            ],
            [
             0.2,
             "#de77ae"
            ],
            [
             0.3,
             "#f1b6da"
            ],
            [
             0.4,
             "#fde0ef"
            ],
            [
             0.5,
             "#f7f7f7"
            ],
            [
             0.6,
             "#e6f5d0"
            ],
            [
             0.7,
             "#b8e186"
            ],
            [
             0.8,
             "#7fbc41"
            ],
            [
             0.9,
             "#4d9221"
            ],
            [
             1,
             "#276419"
            ]
           ],
           "sequential": [
            [
             0,
             "#0d0887"
            ],
            [
             0.1111111111111111,
             "#46039f"
            ],
            [
             0.2222222222222222,
             "#7201a8"
            ],
            [
             0.3333333333333333,
             "#9c179e"
            ],
            [
             0.4444444444444444,
             "#bd3786"
            ],
            [
             0.5555555555555556,
             "#d8576b"
            ],
            [
             0.6666666666666666,
             "#ed7953"
            ],
            [
             0.7777777777777778,
             "#fb9f3a"
            ],
            [
             0.8888888888888888,
             "#fdca26"
            ],
            [
             1,
             "#f0f921"
            ]
           ],
           "sequentialminus": [
            [
             0,
             "#0d0887"
            ],
            [
             0.1111111111111111,
             "#46039f"
            ],
            [
             0.2222222222222222,
             "#7201a8"
            ],
            [
             0.3333333333333333,
             "#9c179e"
            ],
            [
             0.4444444444444444,
             "#bd3786"
            ],
            [
             0.5555555555555556,
             "#d8576b"
            ],
            [
             0.6666666666666666,
             "#ed7953"
            ],
            [
             0.7777777777777778,
             "#fb9f3a"
            ],
            [
             0.8888888888888888,
             "#fdca26"
            ],
            [
             1,
             "#f0f921"
            ]
           ]
          },
          "colorway": [
           "#636efa",
           "#EF553B",
           "#00cc96",
           "#ab63fa",
           "#FFA15A",
           "#19d3f3",
           "#FF6692",
           "#B6E880",
           "#FF97FF",
           "#FECB52"
          ],
          "font": {
           "color": "#2a3f5f"
          },
          "geo": {
           "bgcolor": "white",
           "lakecolor": "white",
           "landcolor": "#E5ECF6",
           "showlakes": true,
           "showland": true,
           "subunitcolor": "white"
          },
          "hoverlabel": {
           "align": "left"
          },
          "hovermode": "closest",
          "mapbox": {
           "style": "light"
          },
          "paper_bgcolor": "white",
          "plot_bgcolor": "#E5ECF6",
          "polar": {
           "angularaxis": {
            "gridcolor": "white",
            "linecolor": "white",
            "ticks": ""
           },
           "bgcolor": "#E5ECF6",
           "radialaxis": {
            "gridcolor": "white",
            "linecolor": "white",
            "ticks": ""
           }
          },
          "scene": {
           "xaxis": {
            "backgroundcolor": "#E5ECF6",
            "gridcolor": "white",
            "gridwidth": 2,
            "linecolor": "white",
            "showbackground": true,
            "ticks": "",
            "zerolinecolor": "white"
           },
           "yaxis": {
            "backgroundcolor": "#E5ECF6",
            "gridcolor": "white",
            "gridwidth": 2,
            "linecolor": "white",
            "showbackground": true,
            "ticks": "",
            "zerolinecolor": "white"
           },
           "zaxis": {
            "backgroundcolor": "#E5ECF6",
            "gridcolor": "white",
            "gridwidth": 2,
            "linecolor": "white",
            "showbackground": true,
            "ticks": "",
            "zerolinecolor": "white"
           }
          },
          "shapedefaults": {
           "line": {
            "color": "#2a3f5f"
           }
          },
          "ternary": {
           "aaxis": {
            "gridcolor": "white",
            "linecolor": "white",
            "ticks": ""
           },
           "baxis": {
            "gridcolor": "white",
            "linecolor": "white",
            "ticks": ""
           },
           "bgcolor": "#E5ECF6",
           "caxis": {
            "gridcolor": "white",
            "linecolor": "white",
            "ticks": ""
           }
          },
          "title": {
           "x": 0.05
          },
          "xaxis": {
           "automargin": true,
           "gridcolor": "white",
           "linecolor": "white",
           "ticks": "",
           "title": {
            "standoff": 15
           },
           "zerolinecolor": "white",
           "zerolinewidth": 2
          },
          "yaxis": {
           "automargin": true,
           "gridcolor": "white",
           "linecolor": "white",
           "ticks": "",
           "title": {
            "standoff": 15
           },
           "zerolinecolor": "white",
           "zerolinewidth": 2
          }
         }
        },
        "title": {
         "text": "Correlation heatmap of numerical values from champion stats"
        },
        "xaxis": {
         "anchor": "y",
         "constrain": "domain",
         "domain": [
          0,
          1
         ],
         "scaleanchor": "y"
        },
        "yaxis": {
         "anchor": "x",
         "autorange": "reversed",
         "constrain": "domain",
         "domain": [
          0,
          1
         ]
        }
       }
      }
     },
     "metadata": {}
    }
   ],
   "source": [
    "fig = px.imshow(champ_data_df.corr(), title=\"Correlation heatmap of numerical values from champion stats\")\n",
    "fig.update_layout(height=800)\n",
    "fig.show()"
   ]
  },
  {
   "cell_type": "code",
   "execution_count": 38,
   "metadata": {},
   "outputs": [],
   "source": [
    "win_drop = champ_data_df.columns.drop([\"Win_rate_of_champion\", \"Role_of_champion_role_jungle\", \"Role_of_champion_role_mid\", \"Role_of_champion_role_support\", \"Role_of_champion_role_top\"])\n",
    " "
   ]
  },
  {
   "cell_type": "code",
   "execution_count": 39,
   "metadata": {},
   "outputs": [
    {
     "output_type": "execute_result",
     "data": {
      "text/plain": [
       "'Win_rate_of_champion ~  Pick_rate_of_champion + Move_speed + Attack_range + Base_AS + AS_ratio'"
      ]
     },
     "metadata": {},
     "execution_count": 39
    }
   ],
   "source": [
    "# y_target ~ xcol1 + xcol2 + xcol3 ...\n",
    "formula = \"Win_rate_of_champion ~  \" + \" + \".join(win_drop)\n",
    "formula"
   ]
  },
  {
   "cell_type": "code",
   "execution_count": 40,
   "metadata": {},
   "outputs": [
    {
     "output_type": "execute_result",
     "data": {
      "text/plain": [
       "<class 'statsmodels.iolib.summary.Summary'>\n",
       "\"\"\"\n",
       "                             OLS Regression Results                             \n",
       "================================================================================\n",
       "Dep. Variable:     Win_rate_of_champion   R-squared:                       0.020\n",
       "Model:                              OLS   Adj. R-squared:                 -0.005\n",
       "Method:                   Least Squares   F-statistic:                    0.8166\n",
       "Date:                  Mon, 05 Apr 2021   Prob (F-statistic):              0.539\n",
       "Time:                          19:23:37   Log-Likelihood:                 346.73\n",
       "No. Observations:                   202   AIC:                            -681.5\n",
       "Df Residuals:                       196   BIC:                            -661.6\n",
       "Df Model:                             5                                         \n",
       "Covariance Type:              nonrobust                                         \n",
       "=========================================================================================\n",
       "                            coef    std err          t      P>|t|      [0.025      0.975]\n",
       "-----------------------------------------------------------------------------------------\n",
       "Intercept                 0.8455      0.204      4.147      0.000       0.443       1.248\n",
       "Pick_rate_of_champion    -0.0158      0.073     -0.215      0.830      -0.161       0.129\n",
       "Move_speed               -0.0009      0.001     -1.699      0.091      -0.002       0.000\n",
       "Attack_range          -3.217e-05   2.14e-05     -1.502      0.135   -7.44e-05    1.01e-05\n",
       "Base_AS                  -0.0598      0.099     -0.607      0.545      -0.254       0.135\n",
       "AS_ratio                  0.0181      0.022      0.816      0.415      -0.026       0.062\n",
       "==============================================================================\n",
       "Omnibus:                       19.810   Durbin-Watson:                   1.381\n",
       "Prob(Omnibus):                  0.000   Jarque-Bera (JB):               45.440\n",
       "Skew:                           0.417   Prob(JB):                     1.36e-10\n",
       "Kurtosis:                       5.169   Cond. No.                     3.23e+04\n",
       "==============================================================================\n",
       "\n",
       "Notes:\n",
       "[1] Standard Errors assume that the covariance matrix of the errors is correctly specified.\n",
       "[2] The condition number is large, 3.23e+04. This might indicate that there are\n",
       "strong multicollinearity or other numerical problems.\n",
       "\"\"\""
      ],
      "text/html": "<table class=\"simpletable\">\n<caption>OLS Regression Results</caption>\n<tr>\n  <th>Dep. Variable:</th>    <td>Win_rate_of_champion</td> <th>  R-squared:         </th> <td>   0.020</td>\n</tr>\n<tr>\n  <th>Model:</th>                     <td>OLS</td>         <th>  Adj. R-squared:    </th> <td>  -0.005</td>\n</tr>\n<tr>\n  <th>Method:</th>               <td>Least Squares</td>    <th>  F-statistic:       </th> <td>  0.8166</td>\n</tr>\n<tr>\n  <th>Date:</th>               <td>Mon, 05 Apr 2021</td>   <th>  Prob (F-statistic):</th>  <td> 0.539</td> \n</tr>\n<tr>\n  <th>Time:</th>                   <td>19:23:37</td>       <th>  Log-Likelihood:    </th> <td>  346.73</td>\n</tr>\n<tr>\n  <th>No. Observations:</th>        <td>   202</td>        <th>  AIC:               </th> <td>  -681.5</td>\n</tr>\n<tr>\n  <th>Df Residuals:</th>            <td>   196</td>        <th>  BIC:               </th> <td>  -661.6</td>\n</tr>\n<tr>\n  <th>Df Model:</th>                <td>     5</td>        <th>                     </th>     <td> </td>   \n</tr>\n<tr>\n  <th>Covariance Type:</th>        <td>nonrobust</td>      <th>                     </th>     <td> </td>   \n</tr>\n</table>\n<table class=\"simpletable\">\n<tr>\n            <td></td>               <th>coef</th>     <th>std err</th>      <th>t</th>      <th>P>|t|</th>  <th>[0.025</th>    <th>0.975]</th>  \n</tr>\n<tr>\n  <th>Intercept</th>             <td>    0.8455</td> <td>    0.204</td> <td>    4.147</td> <td> 0.000</td> <td>    0.443</td> <td>    1.248</td>\n</tr>\n<tr>\n  <th>Pick_rate_of_champion</th> <td>   -0.0158</td> <td>    0.073</td> <td>   -0.215</td> <td> 0.830</td> <td>   -0.161</td> <td>    0.129</td>\n</tr>\n<tr>\n  <th>Move_speed</th>            <td>   -0.0009</td> <td>    0.001</td> <td>   -1.699</td> <td> 0.091</td> <td>   -0.002</td> <td>    0.000</td>\n</tr>\n<tr>\n  <th>Attack_range</th>          <td>-3.217e-05</td> <td> 2.14e-05</td> <td>   -1.502</td> <td> 0.135</td> <td>-7.44e-05</td> <td> 1.01e-05</td>\n</tr>\n<tr>\n  <th>Base_AS</th>               <td>   -0.0598</td> <td>    0.099</td> <td>   -0.607</td> <td> 0.545</td> <td>   -0.254</td> <td>    0.135</td>\n</tr>\n<tr>\n  <th>AS_ratio</th>              <td>    0.0181</td> <td>    0.022</td> <td>    0.816</td> <td> 0.415</td> <td>   -0.026</td> <td>    0.062</td>\n</tr>\n</table>\n<table class=\"simpletable\">\n<tr>\n  <th>Omnibus:</th>       <td>19.810</td> <th>  Durbin-Watson:     </th> <td>   1.381</td>\n</tr>\n<tr>\n  <th>Prob(Omnibus):</th> <td> 0.000</td> <th>  Jarque-Bera (JB):  </th> <td>  45.440</td>\n</tr>\n<tr>\n  <th>Skew:</th>          <td> 0.417</td> <th>  Prob(JB):          </th> <td>1.36e-10</td>\n</tr>\n<tr>\n  <th>Kurtosis:</th>      <td> 5.169</td> <th>  Cond. No.          </th> <td>3.23e+04</td>\n</tr>\n</table><br/><br/>Notes:<br/>[1] Standard Errors assume that the covariance matrix of the errors is correctly specified.<br/>[2] The condition number is large, 3.23e+04. This might indicate that there are<br/>strong multicollinearity or other numerical problems."
     },
     "metadata": {},
     "execution_count": 40
    }
   ],
   "source": [
    "import statsmodels.formula.api as smf\n",
    "\n",
    "baseline_model = smf.ols(formula, champ_data_df).fit()\n",
    "baseline_model.summary()\n",
    "#Stastically equal to 0"
   ]
  },
  {
   "cell_type": "code",
   "execution_count": 41,
   "metadata": {},
   "outputs": [
    {
     "output_type": "execute_result",
     "data": {
      "text/plain": [
       "<class 'statsmodels.iolib.summary.Summary'>\n",
       "\"\"\"\n",
       "                             OLS Regression Results                             \n",
       "================================================================================\n",
       "Dep. Variable:     Win_rate_of_champion   R-squared:                       0.020\n",
       "Model:                              OLS   Adj. R-squared:                  0.000\n",
       "Method:                   Least Squares   F-statistic:                     1.014\n",
       "Date:                  Mon, 05 Apr 2021   Prob (F-statistic):              0.401\n",
       "Time:                          19:23:37   Log-Likelihood:                 346.71\n",
       "No. Observations:                   202   AIC:                            -683.4\n",
       "Df Residuals:                       197   BIC:                            -666.9\n",
       "Df Model:                             4                                         \n",
       "Covariance Type:              nonrobust                                         \n",
       "================================================================================\n",
       "                   coef    std err          t      P>|t|      [0.025      0.975]\n",
       "--------------------------------------------------------------------------------\n",
       "Intercept        0.8406      0.202      4.159      0.000       0.442       1.239\n",
       "Move_speed      -0.0009      0.001     -1.690      0.093      -0.002       0.000\n",
       "Attack_range -3.208e-05   2.14e-05     -1.502      0.135   -7.42e-05       1e-05\n",
       "Base_AS         -0.0590      0.098     -0.600      0.549      -0.253       0.135\n",
       "AS_ratio         0.0181      0.022      0.818      0.414      -0.026       0.062\n",
       "==============================================================================\n",
       "Omnibus:                       20.663   Durbin-Watson:                   1.393\n",
       "Prob(Omnibus):                  0.000   Jarque-Bera (JB):               47.275\n",
       "Skew:                           0.441   Prob(JB):                     5.42e-11\n",
       "Kurtosis:                       5.199   Cond. No.                     3.21e+04\n",
       "==============================================================================\n",
       "\n",
       "Notes:\n",
       "[1] Standard Errors assume that the covariance matrix of the errors is correctly specified.\n",
       "[2] The condition number is large, 3.21e+04. This might indicate that there are\n",
       "strong multicollinearity or other numerical problems.\n",
       "\"\"\""
      ],
      "text/html": "<table class=\"simpletable\">\n<caption>OLS Regression Results</caption>\n<tr>\n  <th>Dep. Variable:</th>    <td>Win_rate_of_champion</td> <th>  R-squared:         </th> <td>   0.020</td>\n</tr>\n<tr>\n  <th>Model:</th>                     <td>OLS</td>         <th>  Adj. R-squared:    </th> <td>   0.000</td>\n</tr>\n<tr>\n  <th>Method:</th>               <td>Least Squares</td>    <th>  F-statistic:       </th> <td>   1.014</td>\n</tr>\n<tr>\n  <th>Date:</th>               <td>Mon, 05 Apr 2021</td>   <th>  Prob (F-statistic):</th>  <td> 0.401</td> \n</tr>\n<tr>\n  <th>Time:</th>                   <td>19:23:37</td>       <th>  Log-Likelihood:    </th> <td>  346.71</td>\n</tr>\n<tr>\n  <th>No. Observations:</th>        <td>   202</td>        <th>  AIC:               </th> <td>  -683.4</td>\n</tr>\n<tr>\n  <th>Df Residuals:</th>            <td>   197</td>        <th>  BIC:               </th> <td>  -666.9</td>\n</tr>\n<tr>\n  <th>Df Model:</th>                <td>     4</td>        <th>                     </th>     <td> </td>   \n</tr>\n<tr>\n  <th>Covariance Type:</th>        <td>nonrobust</td>      <th>                     </th>     <td> </td>   \n</tr>\n</table>\n<table class=\"simpletable\">\n<tr>\n        <td></td>          <th>coef</th>     <th>std err</th>      <th>t</th>      <th>P>|t|</th>  <th>[0.025</th>    <th>0.975]</th>  \n</tr>\n<tr>\n  <th>Intercept</th>    <td>    0.8406</td> <td>    0.202</td> <td>    4.159</td> <td> 0.000</td> <td>    0.442</td> <td>    1.239</td>\n</tr>\n<tr>\n  <th>Move_speed</th>   <td>   -0.0009</td> <td>    0.001</td> <td>   -1.690</td> <td> 0.093</td> <td>   -0.002</td> <td>    0.000</td>\n</tr>\n<tr>\n  <th>Attack_range</th> <td>-3.208e-05</td> <td> 2.14e-05</td> <td>   -1.502</td> <td> 0.135</td> <td>-7.42e-05</td> <td>    1e-05</td>\n</tr>\n<tr>\n  <th>Base_AS</th>      <td>   -0.0590</td> <td>    0.098</td> <td>   -0.600</td> <td> 0.549</td> <td>   -0.253</td> <td>    0.135</td>\n</tr>\n<tr>\n  <th>AS_ratio</th>     <td>    0.0181</td> <td>    0.022</td> <td>    0.818</td> <td> 0.414</td> <td>   -0.026</td> <td>    0.062</td>\n</tr>\n</table>\n<table class=\"simpletable\">\n<tr>\n  <th>Omnibus:</th>       <td>20.663</td> <th>  Durbin-Watson:     </th> <td>   1.393</td>\n</tr>\n<tr>\n  <th>Prob(Omnibus):</th> <td> 0.000</td> <th>  Jarque-Bera (JB):  </th> <td>  47.275</td>\n</tr>\n<tr>\n  <th>Skew:</th>          <td> 0.441</td> <th>  Prob(JB):          </th> <td>5.42e-11</td>\n</tr>\n<tr>\n  <th>Kurtosis:</th>      <td> 5.199</td> <th>  Cond. No.          </th> <td>3.21e+04</td>\n</tr>\n</table><br/><br/>Notes:<br/>[1] Standard Errors assume that the covariance matrix of the errors is correctly specified.<br/>[2] The condition number is large, 3.21e+04. This might indicate that there are<br/>strong multicollinearity or other numerical problems."
     },
     "metadata": {},
     "execution_count": 41
    }
   ],
   "source": [
    "win_drop = champ_data_df.columns.drop([\"Win_rate_of_champion\", \"Role_of_champion_role_jungle\", \"Role_of_champion_role_mid\", \"Role_of_champion_role_support\", \"Role_of_champion_role_top\", \"Pick_rate_of_champion\"])\n",
    "\n",
    "# y_target ~ xcol1 + xcol2 + xcol3 ...\n",
    "formula = \"Win_rate_of_champion ~  \" + \" + \".join(win_drop)\n",
    "\n",
    "baseline_model = smf.ols(formula, champ_data_df).fit()\n",
    "baseline_model.summary()"
   ]
  },
  {
   "cell_type": "code",
   "execution_count": 42,
   "metadata": {},
   "outputs": [
    {
     "output_type": "execute_result",
     "data": {
      "text/plain": [
       "<class 'statsmodels.iolib.summary.Summary'>\n",
       "\"\"\"\n",
       "                             OLS Regression Results                             \n",
       "================================================================================\n",
       "Dep. Variable:     Win_rate_of_champion   R-squared:                       0.017\n",
       "Model:                              OLS   Adj. R-squared:                  0.002\n",
       "Method:                   Least Squares   F-statistic:                     1.131\n",
       "Date:                  Mon, 05 Apr 2021   Prob (F-statistic):              0.338\n",
       "Time:                          19:23:37   Log-Likelihood:                 346.36\n",
       "No. Observations:                   202   AIC:                            -684.7\n",
       "Df Residuals:                       198   BIC:                            -671.5\n",
       "Df Model:                             3                                         \n",
       "Covariance Type:              nonrobust                                         \n",
       "================================================================================\n",
       "                   coef    std err          t      P>|t|      [0.025      0.975]\n",
       "--------------------------------------------------------------------------------\n",
       "Intercept        0.8581      0.201      4.273      0.000       0.462       1.254\n",
       "Move_speed      -0.0009      0.001     -1.605      0.110      -0.002       0.000\n",
       "Attack_range -3.163e-05   2.13e-05     -1.483      0.140   -7.37e-05    1.04e-05\n",
       "Base_AS         -0.0880      0.092     -0.961      0.338      -0.269       0.093\n",
       "==============================================================================\n",
       "Omnibus:                       21.505   Durbin-Watson:                   1.391\n",
       "Prob(Omnibus):                  0.000   Jarque-Bera (JB):               49.710\n",
       "Skew:                           0.460   Prob(JB):                     1.61e-11\n",
       "Kurtosis:                       5.250   Cond. No.                     3.18e+04\n",
       "==============================================================================\n",
       "\n",
       "Notes:\n",
       "[1] Standard Errors assume that the covariance matrix of the errors is correctly specified.\n",
       "[2] The condition number is large, 3.18e+04. This might indicate that there are\n",
       "strong multicollinearity or other numerical problems.\n",
       "\"\"\""
      ],
      "text/html": "<table class=\"simpletable\">\n<caption>OLS Regression Results</caption>\n<tr>\n  <th>Dep. Variable:</th>    <td>Win_rate_of_champion</td> <th>  R-squared:         </th> <td>   0.017</td>\n</tr>\n<tr>\n  <th>Model:</th>                     <td>OLS</td>         <th>  Adj. R-squared:    </th> <td>   0.002</td>\n</tr>\n<tr>\n  <th>Method:</th>               <td>Least Squares</td>    <th>  F-statistic:       </th> <td>   1.131</td>\n</tr>\n<tr>\n  <th>Date:</th>               <td>Mon, 05 Apr 2021</td>   <th>  Prob (F-statistic):</th>  <td> 0.338</td> \n</tr>\n<tr>\n  <th>Time:</th>                   <td>19:23:37</td>       <th>  Log-Likelihood:    </th> <td>  346.36</td>\n</tr>\n<tr>\n  <th>No. Observations:</th>        <td>   202</td>        <th>  AIC:               </th> <td>  -684.7</td>\n</tr>\n<tr>\n  <th>Df Residuals:</th>            <td>   198</td>        <th>  BIC:               </th> <td>  -671.5</td>\n</tr>\n<tr>\n  <th>Df Model:</th>                <td>     3</td>        <th>                     </th>     <td> </td>   \n</tr>\n<tr>\n  <th>Covariance Type:</th>        <td>nonrobust</td>      <th>                     </th>     <td> </td>   \n</tr>\n</table>\n<table class=\"simpletable\">\n<tr>\n        <td></td>          <th>coef</th>     <th>std err</th>      <th>t</th>      <th>P>|t|</th>  <th>[0.025</th>    <th>0.975]</th>  \n</tr>\n<tr>\n  <th>Intercept</th>    <td>    0.8581</td> <td>    0.201</td> <td>    4.273</td> <td> 0.000</td> <td>    0.462</td> <td>    1.254</td>\n</tr>\n<tr>\n  <th>Move_speed</th>   <td>   -0.0009</td> <td>    0.001</td> <td>   -1.605</td> <td> 0.110</td> <td>   -0.002</td> <td>    0.000</td>\n</tr>\n<tr>\n  <th>Attack_range</th> <td>-3.163e-05</td> <td> 2.13e-05</td> <td>   -1.483</td> <td> 0.140</td> <td>-7.37e-05</td> <td> 1.04e-05</td>\n</tr>\n<tr>\n  <th>Base_AS</th>      <td>   -0.0880</td> <td>    0.092</td> <td>   -0.961</td> <td> 0.338</td> <td>   -0.269</td> <td>    0.093</td>\n</tr>\n</table>\n<table class=\"simpletable\">\n<tr>\n  <th>Omnibus:</th>       <td>21.505</td> <th>  Durbin-Watson:     </th> <td>   1.391</td>\n</tr>\n<tr>\n  <th>Prob(Omnibus):</th> <td> 0.000</td> <th>  Jarque-Bera (JB):  </th> <td>  49.710</td>\n</tr>\n<tr>\n  <th>Skew:</th>          <td> 0.460</td> <th>  Prob(JB):          </th> <td>1.61e-11</td>\n</tr>\n<tr>\n  <th>Kurtosis:</th>      <td> 5.250</td> <th>  Cond. No.          </th> <td>3.18e+04</td>\n</tr>\n</table><br/><br/>Notes:<br/>[1] Standard Errors assume that the covariance matrix of the errors is correctly specified.<br/>[2] The condition number is large, 3.18e+04. This might indicate that there are<br/>strong multicollinearity or other numerical problems."
     },
     "metadata": {},
     "execution_count": 42
    }
   ],
   "source": [
    "win_drop = champ_data_df.columns.drop([\"Win_rate_of_champion\", \"Role_of_champion_role_jungle\", \"Role_of_champion_role_mid\", \"Role_of_champion_role_support\", \"Role_of_champion_role_top\", \"Pick_rate_of_champion\", \"AS_ratio\"])\n",
    "\n",
    "# y_target ~ xcol1 + xcol2 + xcol3 ...\n",
    "formula = \"Win_rate_of_champion ~  \" + \" + \".join(win_drop)\n",
    "\n",
    "baseline_model = smf.ols(formula, champ_data_df).fit()\n",
    "baseline_model.summary()"
   ]
  },
  {
   "cell_type": "code",
   "execution_count": 43,
   "metadata": {},
   "outputs": [
    {
     "output_type": "execute_result",
     "data": {
      "text/plain": [
       "<class 'statsmodels.iolib.summary.Summary'>\n",
       "\"\"\"\n",
       "                             OLS Regression Results                             \n",
       "================================================================================\n",
       "Dep. Variable:     Win_rate_of_champion   R-squared:                       0.012\n",
       "Model:                              OLS   Adj. R-squared:                  0.002\n",
       "Method:                   Least Squares   F-statistic:                     1.235\n",
       "Date:                  Mon, 05 Apr 2021   Prob (F-statistic):              0.293\n",
       "Time:                          19:23:37   Log-Likelihood:                 345.89\n",
       "No. Observations:                   202   AIC:                            -685.8\n",
       "Df Residuals:                       199   BIC:                            -675.9\n",
       "Df Model:                             2                                         \n",
       "Covariance Type:              nonrobust                                         \n",
       "================================================================================\n",
       "                   coef    std err          t      P>|t|      [0.025      0.975]\n",
       "--------------------------------------------------------------------------------\n",
       "Intercept        0.7820      0.185      4.239      0.000       0.418       1.146\n",
       "Move_speed      -0.0008      0.001     -1.517      0.131      -0.002       0.000\n",
       "Attack_range -2.603e-05   2.05e-05     -1.269      0.206   -6.65e-05    1.44e-05\n",
       "==============================================================================\n",
       "Omnibus:                       22.260   Durbin-Watson:                   1.371\n",
       "Prob(Omnibus):                  0.000   Jarque-Bera (JB):               52.171\n",
       "Skew:                           0.474   Prob(JB):                     4.69e-12\n",
       "Kurtosis:                       5.302   Cond. No.                     2.86e+04\n",
       "==============================================================================\n",
       "\n",
       "Notes:\n",
       "[1] Standard Errors assume that the covariance matrix of the errors is correctly specified.\n",
       "[2] The condition number is large, 2.86e+04. This might indicate that there are\n",
       "strong multicollinearity or other numerical problems.\n",
       "\"\"\""
      ],
      "text/html": "<table class=\"simpletable\">\n<caption>OLS Regression Results</caption>\n<tr>\n  <th>Dep. Variable:</th>    <td>Win_rate_of_champion</td> <th>  R-squared:         </th> <td>   0.012</td>\n</tr>\n<tr>\n  <th>Model:</th>                     <td>OLS</td>         <th>  Adj. R-squared:    </th> <td>   0.002</td>\n</tr>\n<tr>\n  <th>Method:</th>               <td>Least Squares</td>    <th>  F-statistic:       </th> <td>   1.235</td>\n</tr>\n<tr>\n  <th>Date:</th>               <td>Mon, 05 Apr 2021</td>   <th>  Prob (F-statistic):</th>  <td> 0.293</td> \n</tr>\n<tr>\n  <th>Time:</th>                   <td>19:23:37</td>       <th>  Log-Likelihood:    </th> <td>  345.89</td>\n</tr>\n<tr>\n  <th>No. Observations:</th>        <td>   202</td>        <th>  AIC:               </th> <td>  -685.8</td>\n</tr>\n<tr>\n  <th>Df Residuals:</th>            <td>   199</td>        <th>  BIC:               </th> <td>  -675.9</td>\n</tr>\n<tr>\n  <th>Df Model:</th>                <td>     2</td>        <th>                     </th>     <td> </td>   \n</tr>\n<tr>\n  <th>Covariance Type:</th>        <td>nonrobust</td>      <th>                     </th>     <td> </td>   \n</tr>\n</table>\n<table class=\"simpletable\">\n<tr>\n        <td></td>          <th>coef</th>     <th>std err</th>      <th>t</th>      <th>P>|t|</th>  <th>[0.025</th>    <th>0.975]</th>  \n</tr>\n<tr>\n  <th>Intercept</th>    <td>    0.7820</td> <td>    0.185</td> <td>    4.239</td> <td> 0.000</td> <td>    0.418</td> <td>    1.146</td>\n</tr>\n<tr>\n  <th>Move_speed</th>   <td>   -0.0008</td> <td>    0.001</td> <td>   -1.517</td> <td> 0.131</td> <td>   -0.002</td> <td>    0.000</td>\n</tr>\n<tr>\n  <th>Attack_range</th> <td>-2.603e-05</td> <td> 2.05e-05</td> <td>   -1.269</td> <td> 0.206</td> <td>-6.65e-05</td> <td> 1.44e-05</td>\n</tr>\n</table>\n<table class=\"simpletable\">\n<tr>\n  <th>Omnibus:</th>       <td>22.260</td> <th>  Durbin-Watson:     </th> <td>   1.371</td>\n</tr>\n<tr>\n  <th>Prob(Omnibus):</th> <td> 0.000</td> <th>  Jarque-Bera (JB):  </th> <td>  52.171</td>\n</tr>\n<tr>\n  <th>Skew:</th>          <td> 0.474</td> <th>  Prob(JB):          </th> <td>4.69e-12</td>\n</tr>\n<tr>\n  <th>Kurtosis:</th>      <td> 5.302</td> <th>  Cond. No.          </th> <td>2.86e+04</td>\n</tr>\n</table><br/><br/>Notes:<br/>[1] Standard Errors assume that the covariance matrix of the errors is correctly specified.<br/>[2] The condition number is large, 2.86e+04. This might indicate that there are<br/>strong multicollinearity or other numerical problems."
     },
     "metadata": {},
     "execution_count": 43
    }
   ],
   "source": [
    "win_drop = champ_data_df.columns.drop([\"Win_rate_of_champion\", \"Role_of_champion_role_jungle\", \"Role_of_champion_role_mid\", \"Role_of_champion_role_support\", \"Role_of_champion_role_top\", \"Pick_rate_of_champion\", \"AS_ratio\", \"Base_AS\"])\n",
    "\n",
    "# y_target ~ xcol1 + xcol2 + xcol3 ...\n",
    "formula = \"Win_rate_of_champion ~  \" + \" + \".join(win_drop)\n",
    "\n",
    "baseline_model = smf.ols(formula, champ_data_df).fit()\n",
    "baseline_model.summary()"
   ]
  },
  {
   "cell_type": "code",
   "execution_count": 44,
   "metadata": {},
   "outputs": [
    {
     "output_type": "execute_result",
     "data": {
      "text/plain": [
       "<class 'statsmodels.iolib.summary.Summary'>\n",
       "\"\"\"\n",
       "                             OLS Regression Results                             \n",
       "================================================================================\n",
       "Dep. Variable:     Win_rate_of_champion   R-squared:                       0.004\n",
       "Model:                              OLS   Adj. R-squared:                 -0.001\n",
       "Method:                   Least Squares   F-statistic:                    0.8579\n",
       "Date:                  Mon, 05 Apr 2021   Prob (F-statistic):              0.355\n",
       "Time:                          19:23:37   Log-Likelihood:                 345.08\n",
       "No. Observations:                   202   AIC:                            -686.2\n",
       "Df Residuals:                       200   BIC:                            -679.5\n",
       "Df Model:                             1                                         \n",
       "Covariance Type:              nonrobust                                         \n",
       "==============================================================================\n",
       "                 coef    std err          t      P>|t|      [0.025      0.975]\n",
       "------------------------------------------------------------------------------\n",
       "Intercept      0.6308      0.141      4.473      0.000       0.353       0.909\n",
       "Move_speed    -0.0004      0.000     -0.926      0.355      -0.001       0.000\n",
       "==============================================================================\n",
       "Omnibus:                       23.554   Durbin-Watson:                   1.353\n",
       "Prob(Omnibus):                  0.000   Jarque-Bera (JB):               58.739\n",
       "Skew:                           0.483   Prob(JB):                     1.76e-13\n",
       "Kurtosis:                       5.459   Cond. No.                     1.53e+04\n",
       "==============================================================================\n",
       "\n",
       "Notes:\n",
       "[1] Standard Errors assume that the covariance matrix of the errors is correctly specified.\n",
       "[2] The condition number is large, 1.53e+04. This might indicate that there are\n",
       "strong multicollinearity or other numerical problems.\n",
       "\"\"\""
      ],
      "text/html": "<table class=\"simpletable\">\n<caption>OLS Regression Results</caption>\n<tr>\n  <th>Dep. Variable:</th>    <td>Win_rate_of_champion</td> <th>  R-squared:         </th> <td>   0.004</td>\n</tr>\n<tr>\n  <th>Model:</th>                     <td>OLS</td>         <th>  Adj. R-squared:    </th> <td>  -0.001</td>\n</tr>\n<tr>\n  <th>Method:</th>               <td>Least Squares</td>    <th>  F-statistic:       </th> <td>  0.8579</td>\n</tr>\n<tr>\n  <th>Date:</th>               <td>Mon, 05 Apr 2021</td>   <th>  Prob (F-statistic):</th>  <td> 0.355</td> \n</tr>\n<tr>\n  <th>Time:</th>                   <td>19:23:37</td>       <th>  Log-Likelihood:    </th> <td>  345.08</td>\n</tr>\n<tr>\n  <th>No. Observations:</th>        <td>   202</td>        <th>  AIC:               </th> <td>  -686.2</td>\n</tr>\n<tr>\n  <th>Df Residuals:</th>            <td>   200</td>        <th>  BIC:               </th> <td>  -679.5</td>\n</tr>\n<tr>\n  <th>Df Model:</th>                <td>     1</td>        <th>                     </th>     <td> </td>   \n</tr>\n<tr>\n  <th>Covariance Type:</th>        <td>nonrobust</td>      <th>                     </th>     <td> </td>   \n</tr>\n</table>\n<table class=\"simpletable\">\n<tr>\n       <td></td>         <th>coef</th>     <th>std err</th>      <th>t</th>      <th>P>|t|</th>  <th>[0.025</th>    <th>0.975]</th>  \n</tr>\n<tr>\n  <th>Intercept</th>  <td>    0.6308</td> <td>    0.141</td> <td>    4.473</td> <td> 0.000</td> <td>    0.353</td> <td>    0.909</td>\n</tr>\n<tr>\n  <th>Move_speed</th> <td>   -0.0004</td> <td>    0.000</td> <td>   -0.926</td> <td> 0.355</td> <td>   -0.001</td> <td>    0.000</td>\n</tr>\n</table>\n<table class=\"simpletable\">\n<tr>\n  <th>Omnibus:</th>       <td>23.554</td> <th>  Durbin-Watson:     </th> <td>   1.353</td>\n</tr>\n<tr>\n  <th>Prob(Omnibus):</th> <td> 0.000</td> <th>  Jarque-Bera (JB):  </th> <td>  58.739</td>\n</tr>\n<tr>\n  <th>Skew:</th>          <td> 0.483</td> <th>  Prob(JB):          </th> <td>1.76e-13</td>\n</tr>\n<tr>\n  <th>Kurtosis:</th>      <td> 5.459</td> <th>  Cond. No.          </th> <td>1.53e+04</td>\n</tr>\n</table><br/><br/>Notes:<br/>[1] Standard Errors assume that the covariance matrix of the errors is correctly specified.<br/>[2] The condition number is large, 1.53e+04. This might indicate that there are<br/>strong multicollinearity or other numerical problems."
     },
     "metadata": {},
     "execution_count": 44
    }
   ],
   "source": [
    "win_drop = champ_data_df.columns.drop([\"Win_rate_of_champion\", \"Role_of_champion_role_jungle\", \"Role_of_champion_role_mid\", \"Role_of_champion_role_support\", \"Role_of_champion_role_top\", \"Pick_rate_of_champion\", \"AS_ratio\", \"Base_AS\", \"Attack_range\"])\n",
    "\n",
    "# y_target ~ xcol1 + xcol2 + xcol3 ...\n",
    "formula = \"Win_rate_of_champion ~  \" + \" + \".join(win_drop)\n",
    "\n",
    "baseline_model = smf.ols(formula, champ_data_df).fit()\n",
    "baseline_model.summary()"
   ]
  },
  {
   "cell_type": "code",
   "execution_count": 45,
   "metadata": {},
   "outputs": [],
   "source": [
    "# Look at catagorical roles\n",
    "# Split data into train, test, validate\n",
    "# Go back and add more variables?"
   ]
  },
  {
   "cell_type": "code",
   "execution_count": 64,
   "metadata": {},
   "outputs": [
    {
     "output_type": "execute_result",
     "data": {
      "text/plain": [
       "<class 'statsmodels.iolib.summary.Summary'>\n",
       "\"\"\"\n",
       "                             OLS Regression Results                             \n",
       "================================================================================\n",
       "Dep. Variable:     Win_rate_of_champion   R-squared:                       0.024\n",
       "Model:                              OLS   Adj. R-squared:                 -0.022\n",
       "Method:                   Least Squares   F-statistic:                    0.5188\n",
       "Date:                  Tue, 06 Apr 2021   Prob (F-statistic):              0.860\n",
       "Time:                          16:37:49   Log-Likelihood:                 347.07\n",
       "No. Observations:                   202   AIC:                            -674.1\n",
       "Df Residuals:                       192   BIC:                            -641.1\n",
       "Df Model:                             9                                         \n",
       "Covariance Type:              nonrobust                                         \n",
       "=================================================================================================\n",
       "                                    coef    std err          t      P>|t|      [0.025      0.975]\n",
       "-------------------------------------------------------------------------------------------------\n",
       "Intercept                         0.8693      0.211      4.121      0.000       0.453       1.285\n",
       "Role_of_champion_role_jungle      0.0033      0.014      0.226      0.821      -0.025       0.032\n",
       "Role_of_champion_role_mid         0.0050      0.013      0.382      0.703      -0.021       0.031\n",
       "Role_of_champion_role_support    -0.0019      0.013     -0.147      0.883      -0.028       0.024\n",
       "Role_of_champion_role_top         0.0001      0.014      0.009      0.993      -0.028       0.028\n",
       "Pick_rate_of_champion            -0.0100      0.079     -0.127      0.899      -0.166       0.146\n",
       "Move_speed                       -0.0010      0.001     -1.736      0.084      -0.002       0.000\n",
       "Attack_range                  -3.297e-05   2.31e-05     -1.429      0.155   -7.85e-05    1.25e-05\n",
       "Base_AS                          -0.0625      0.101     -0.617      0.538      -0.262       0.137\n",
       "AS_ratio                          0.0177      0.022      0.785      0.433      -0.027       0.062\n",
       "==============================================================================\n",
       "Omnibus:                       18.224   Durbin-Watson:                   1.366\n",
       "Prob(Omnibus):                  0.000   Jarque-Bera (JB):               39.720\n",
       "Skew:                           0.394   Prob(JB):                     2.37e-09\n",
       "Kurtosis:                       5.024   Cond. No.                     3.31e+04\n",
       "==============================================================================\n",
       "\n",
       "Notes:\n",
       "[1] Standard Errors assume that the covariance matrix of the errors is correctly specified.\n",
       "[2] The condition number is large, 3.31e+04. This might indicate that there are\n",
       "strong multicollinearity or other numerical problems.\n",
       "\"\"\""
      ],
      "text/html": "<table class=\"simpletable\">\n<caption>OLS Regression Results</caption>\n<tr>\n  <th>Dep. Variable:</th>    <td>Win_rate_of_champion</td> <th>  R-squared:         </th> <td>   0.024</td>\n</tr>\n<tr>\n  <th>Model:</th>                     <td>OLS</td>         <th>  Adj. R-squared:    </th> <td>  -0.022</td>\n</tr>\n<tr>\n  <th>Method:</th>               <td>Least Squares</td>    <th>  F-statistic:       </th> <td>  0.5188</td>\n</tr>\n<tr>\n  <th>Date:</th>               <td>Tue, 06 Apr 2021</td>   <th>  Prob (F-statistic):</th>  <td> 0.860</td> \n</tr>\n<tr>\n  <th>Time:</th>                   <td>16:37:49</td>       <th>  Log-Likelihood:    </th> <td>  347.07</td>\n</tr>\n<tr>\n  <th>No. Observations:</th>        <td>   202</td>        <th>  AIC:               </th> <td>  -674.1</td>\n</tr>\n<tr>\n  <th>Df Residuals:</th>            <td>   192</td>        <th>  BIC:               </th> <td>  -641.1</td>\n</tr>\n<tr>\n  <th>Df Model:</th>                <td>     9</td>        <th>                     </th>     <td> </td>   \n</tr>\n<tr>\n  <th>Covariance Type:</th>        <td>nonrobust</td>      <th>                     </th>     <td> </td>   \n</tr>\n</table>\n<table class=\"simpletable\">\n<tr>\n                <td></td>                   <th>coef</th>     <th>std err</th>      <th>t</th>      <th>P>|t|</th>  <th>[0.025</th>    <th>0.975]</th>  \n</tr>\n<tr>\n  <th>Intercept</th>                     <td>    0.8693</td> <td>    0.211</td> <td>    4.121</td> <td> 0.000</td> <td>    0.453</td> <td>    1.285</td>\n</tr>\n<tr>\n  <th>Role_of_champion_role_jungle</th>  <td>    0.0033</td> <td>    0.014</td> <td>    0.226</td> <td> 0.821</td> <td>   -0.025</td> <td>    0.032</td>\n</tr>\n<tr>\n  <th>Role_of_champion_role_mid</th>     <td>    0.0050</td> <td>    0.013</td> <td>    0.382</td> <td> 0.703</td> <td>   -0.021</td> <td>    0.031</td>\n</tr>\n<tr>\n  <th>Role_of_champion_role_support</th> <td>   -0.0019</td> <td>    0.013</td> <td>   -0.147</td> <td> 0.883</td> <td>   -0.028</td> <td>    0.024</td>\n</tr>\n<tr>\n  <th>Role_of_champion_role_top</th>     <td>    0.0001</td> <td>    0.014</td> <td>    0.009</td> <td> 0.993</td> <td>   -0.028</td> <td>    0.028</td>\n</tr>\n<tr>\n  <th>Pick_rate_of_champion</th>         <td>   -0.0100</td> <td>    0.079</td> <td>   -0.127</td> <td> 0.899</td> <td>   -0.166</td> <td>    0.146</td>\n</tr>\n<tr>\n  <th>Move_speed</th>                    <td>   -0.0010</td> <td>    0.001</td> <td>   -1.736</td> <td> 0.084</td> <td>   -0.002</td> <td>    0.000</td>\n</tr>\n<tr>\n  <th>Attack_range</th>                  <td>-3.297e-05</td> <td> 2.31e-05</td> <td>   -1.429</td> <td> 0.155</td> <td>-7.85e-05</td> <td> 1.25e-05</td>\n</tr>\n<tr>\n  <th>Base_AS</th>                       <td>   -0.0625</td> <td>    0.101</td> <td>   -0.617</td> <td> 0.538</td> <td>   -0.262</td> <td>    0.137</td>\n</tr>\n<tr>\n  <th>AS_ratio</th>                      <td>    0.0177</td> <td>    0.022</td> <td>    0.785</td> <td> 0.433</td> <td>   -0.027</td> <td>    0.062</td>\n</tr>\n</table>\n<table class=\"simpletable\">\n<tr>\n  <th>Omnibus:</th>       <td>18.224</td> <th>  Durbin-Watson:     </th> <td>   1.366</td>\n</tr>\n<tr>\n  <th>Prob(Omnibus):</th> <td> 0.000</td> <th>  Jarque-Bera (JB):  </th> <td>  39.720</td>\n</tr>\n<tr>\n  <th>Skew:</th>          <td> 0.394</td> <th>  Prob(JB):          </th> <td>2.37e-09</td>\n</tr>\n<tr>\n  <th>Kurtosis:</th>      <td> 5.024</td> <th>  Cond. No.          </th> <td>3.31e+04</td>\n</tr>\n</table><br/><br/>Notes:<br/>[1] Standard Errors assume that the covariance matrix of the errors is correctly specified.<br/>[2] The condition number is large, 3.31e+04. This might indicate that there are<br/>strong multicollinearity or other numerical problems."
     },
     "metadata": {},
     "execution_count": 64
    }
   ],
   "source": [
    "formula = \"Win_rate_of_champion ~  \" + \" + \".join(champ_data_df.columns.drop([\"Win_rate_of_champion\"]))\n",
    "\n",
    "baseline_model = smf.ols(formula, champ_data_df).fit()\n",
    "baseline_model.summary()\n"
   ]
  },
  {
   "cell_type": "code",
   "execution_count": 48,
   "metadata": {},
   "outputs": [
    {
     "output_type": "stream",
     "name": "stdout",
     "text": [
      "Number of samples in:\n    Training: 141\n    Validation: 31\n    Testing: 30\n"
     ]
    }
   ],
   "source": [
    "from sklearn.model_selection import train_test_split\n",
    "\n",
    "X = champ_data_df.drop([\"Win_rate_of_champion\"], axis=1).values\n",
    "y = champ_data_df[\"Win_rate_of_champion\"].values\n",
    "\n",
    "X_train, X_test, y_train, y_test = train_test_split(X, y, test_size=0.3)\n",
    "\n",
    "X_test, X_validation, y_test, y_validation = train_test_split(X_test, y_test, test_size=0.5)\n",
    "\n",
    "print(\"Number of samples in:\")\n",
    "print(f\"    Training: {len(y_train)}\")\n",
    "print(f\"    Validation: {len(y_validation)}\")\n",
    "print(f\"    Testing: {len(y_test)}\")"
   ]
  },
  {
   "cell_type": "code",
   "execution_count": 53,
   "metadata": {},
   "outputs": [
    {
     "output_type": "stream",
     "name": "stdout",
     "text": [
      "LinearRegression(normalize=True)\nLinearRegression: Train Loss: 0.0018890011665305176 | Validation Loss: 0.0018927097398923134 | Test Loss: 0.0021404615366632284\nSVR()\nSVR: Train Loss: 0.0022404353846143155 | Validation Loss: 0.002073972628397357 | Test Loss: 0.0022642934974430773\nDecisionTreeRegressor(splitter='random')\nDecisionTreeRegressor: Train Loss: 0.0 | Validation Loss: 0.0068021290322580665 | Test Loss: 0.00518866666666667\n"
     ]
    }
   ],
   "source": [
    "# ML algorithms you will later know, don't panic\n",
    "import numpy as np\n",
    "\n",
    "from sklearn.linear_model import LinearRegression\n",
    "from sklearn.metrics import mean_squared_error\n",
    "from sklearn.svm import SVR\n",
    "from sklearn.tree import DecisionTreeRegressor\n",
    "\n",
    "np.random.seed(2)\n",
    "\n",
    "models = [LinearRegression(normalize = True),SVR(),DecisionTreeRegressor(splitter='random')]\n",
    "# SVR.fit()\n",
    "for model in models:\n",
    "    print(model)\n",
    "    model.fit(X_train, y_train)\n",
    "    train_pred = model.predict(X_train)\n",
    "    test_pred = model.predict(X_test)\n",
    "    valid_pred = model.predict(X_validation)\n",
    "    train_loss = mean_squared_error(y_train, train_pred)\n",
    "    test_loss = mean_squared_error(y_test, test_pred)\n",
    "    validation_loss = mean_squared_error(y_validation, valid_pred)\n",
    "\n",
    "    print(\n",
    "        f\"{model.__class__.__name__}: \"\n",
    "        f\"Train Loss: {train_loss} | Validation Loss: {validation_loss} | \"\n",
    "        f\"Test Loss: {test_loss}\"\n",
    "    )"
   ]
  },
  {
   "cell_type": "code",
   "execution_count": 62,
   "metadata": {},
   "outputs": [
    {
     "output_type": "stream",
     "name": "stdout",
     "text": [
      "Number of samples in:\n    Training: 141\n    Validation: 31\n    Testing: 30\n"
     ]
    }
   ],
   "source": [
    "from sklearn.model_selection import train_test_split\n",
    "\n",
    "X = champ_data_df.drop([\"Win_rate_of_champion\", \"Role_of_champion_role_jungle\", \"Role_of_champion_role_mid\", \"Role_of_champion_role_support\", \"Role_of_champion_role_top\"], axis=1).values\n",
    "y = champ_data_df[\"Win_rate_of_champion\"].values\n",
    "\n",
    "X_train, X_test, y_train, y_test = train_test_split(X, y, test_size=0.3)\n",
    "\n",
    "X_test, X_validation, y_test, y_validation = train_test_split(X_test, y_test, test_size=0.5)\n",
    "\n",
    "print(\"Number of samples in:\")\n",
    "print(f\"    Training: {len(y_train)}\")\n",
    "print(f\"    Validation: {len(y_validation)}\")\n",
    "print(f\"    Testing: {len(y_test)}\")"
   ]
  },
  {
   "cell_type": "code",
   "execution_count": 63,
   "metadata": {},
   "outputs": [
    {
     "output_type": "stream",
     "name": "stdout",
     "text": [
      "LinearRegression(normalize=True)\nLinearRegression: Train Loss: 0.0017352701452230754 | Validation Loss: 0.0023632288407662927 | Test Loss: 0.002270054804166567\nSVR()\nSVR: Train Loss: 0.002116058325051524 | Validation Loss: 0.002497387426460987 | Test Loss: 0.0021550067560276985\nDecisionTreeRegressor(splitter='random')\nDecisionTreeRegressor: Train Loss: 2.2163120567375924e-06 | Validation Loss: 0.0030970645161290332 | Test Loss: 0.004160266666666667\n"
     ]
    }
   ],
   "source": [
    "# ML algorithms you will later know, don't panic\n",
    "import numpy as np\n",
    "\n",
    "from sklearn.linear_model import LinearRegression\n",
    "from sklearn.metrics import mean_squared_error\n",
    "from sklearn.svm import SVR\n",
    "from sklearn.tree import DecisionTreeRegressor\n",
    "\n",
    "np.random.seed(2)\n",
    "\n",
    "models = [LinearRegression(normalize = True),SVR(),DecisionTreeRegressor(splitter='random')]\n",
    "# SVR.fit()\n",
    "for model in models:\n",
    "    print(model)\n",
    "    model.fit(X_train, y_train)\n",
    "    train_pred = model.predict(X_train)\n",
    "    test_pred = model.predict(X_test)\n",
    "    valid_pred = model.predict(X_validation)\n",
    "    train_loss = mean_squared_error(y_train, train_pred)\n",
    "    test_loss = mean_squared_error(y_test, test_pred)\n",
    "    validation_loss = mean_squared_error(y_validation, valid_pred)\n",
    "\n",
    "    print(\n",
    "        f\"{model.__class__.__name__}: \"\n",
    "        f\"Train Loss: {train_loss} | Validation Loss: {validation_loss} | \"\n",
    "        f\"Test Loss: {test_loss}\"\n",
    "    )"
   ]
  },
  {
   "cell_type": "code",
   "execution_count": null,
   "metadata": {},
   "outputs": [],
   "source": [
    "# Remember to say about it could be the player skill that is the highest factor\n",
    "# Also that you dropped Jhin\n",
    "# Now with new data repeat the process"
   ]
  }
 ]
}